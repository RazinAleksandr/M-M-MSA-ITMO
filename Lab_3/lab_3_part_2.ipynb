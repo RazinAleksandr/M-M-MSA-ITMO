{
  "cells": [
    {
      "cell_type": "code",
      "source": [
        "! pip install pgmpy"
      ],
      "metadata": {
        "id": "cWyNzk81s4FM",
        "colab": {
          "base_uri": "https://localhost:8080/"
        },
        "outputId": "1b372ecd-eba7-4305-d758-d4e0326dcdde"
      },
      "id": "cWyNzk81s4FM",
      "execution_count": null,
      "outputs": [
        {
          "output_type": "stream",
          "name": "stdout",
          "text": [
            "Looking in indexes: https://pypi.org/simple, https://us-python.pkg.dev/colab-wheels/public/simple/\n",
            "Requirement already satisfied: pgmpy in /usr/local/lib/python3.8/dist-packages (0.1.20)\n",
            "Requirement already satisfied: scipy in /usr/local/lib/python3.8/dist-packages (from pgmpy) (1.7.3)\n",
            "Requirement already satisfied: torch in /usr/local/lib/python3.8/dist-packages (from pgmpy) (1.12.1+cu113)\n",
            "Requirement already satisfied: joblib in /usr/local/lib/python3.8/dist-packages (from pgmpy) (1.2.0)\n",
            "Requirement already satisfied: opt-einsum in /usr/local/lib/python3.8/dist-packages (from pgmpy) (3.3.0)\n",
            "Requirement already satisfied: pandas in /usr/local/lib/python3.8/dist-packages (from pgmpy) (1.3.5)\n",
            "Requirement already satisfied: pyparsing in /usr/local/lib/python3.8/dist-packages (from pgmpy) (3.0.9)\n",
            "Requirement already satisfied: tqdm in /usr/local/lib/python3.8/dist-packages (from pgmpy) (4.64.1)\n",
            "Requirement already satisfied: scikit-learn in /usr/local/lib/python3.8/dist-packages (from pgmpy) (1.0.2)\n",
            "Requirement already satisfied: networkx in /usr/local/lib/python3.8/dist-packages (from pgmpy) (2.6.3)\n",
            "Requirement already satisfied: statsmodels in /usr/local/lib/python3.8/dist-packages (from pgmpy) (0.12.2)\n",
            "Requirement already satisfied: numpy in /usr/local/lib/python3.8/dist-packages (from pgmpy) (1.21.6)\n",
            "Requirement already satisfied: python-dateutil>=2.7.3 in /usr/local/lib/python3.8/dist-packages (from pandas->pgmpy) (2.8.2)\n",
            "Requirement already satisfied: pytz>=2017.3 in /usr/local/lib/python3.8/dist-packages (from pandas->pgmpy) (2022.6)\n",
            "Requirement already satisfied: six>=1.5 in /usr/local/lib/python3.8/dist-packages (from python-dateutil>=2.7.3->pandas->pgmpy) (1.15.0)\n",
            "Requirement already satisfied: threadpoolctl>=2.0.0 in /usr/local/lib/python3.8/dist-packages (from scikit-learn->pgmpy) (3.1.0)\n",
            "Requirement already satisfied: patsy>=0.5 in /usr/local/lib/python3.8/dist-packages (from statsmodels->pgmpy) (0.5.3)\n",
            "Requirement already satisfied: typing-extensions in /usr/local/lib/python3.8/dist-packages (from torch->pgmpy) (4.1.1)\n"
          ]
        }
      ]
    },
    {
      "cell_type": "code",
      "execution_count": null,
      "id": "1d3f6b95",
      "metadata": {
        "id": "1d3f6b95"
      },
      "outputs": [],
      "source": [
        "#Libraries initialization \n",
        "import numpy as np\n",
        "import pandas as pd\n",
        "import matplotlib.pyplot as plt\n",
        "import seaborn as sns\n",
        "import networkx as nx\n",
        "import scipy.stats\n",
        "\n",
        "from sklearn.preprocessing import KBinsDiscretizer\n",
        "from sklearn.metrics import classification_report, accuracy_score\n",
        "from sklearn.preprocessing import StandardScaler\n",
        "\n",
        "from pgmpy.estimators import HillClimbSearch, TreeSearch, K2Score, BicScore\n",
        "from pgmpy.models import BayesianModel, BayesianNetwork\n",
        "from pgmpy.inference import VariableElimination\n",
        "from pgmpy.sampling import BayesianModelSampling\n",
        "\n",
        "import warnings\n",
        "warnings.filterwarnings(\"ignore\")"
      ]
    },
    {
      "cell_type": "code",
      "execution_count": null,
      "id": "d2de2c27",
      "metadata": {
        "id": "d2de2c27",
        "colab": {
          "base_uri": "https://localhost:8080/",
          "height": 270
        },
        "outputId": "77074f08-0c53-424e-85cb-9fd907b57bfd"
      },
      "outputs": [
        {
          "output_type": "execute_result",
          "data": {
            "text/plain": [
              "   systolic_blood_pressure  diastolic_blood_pressure  heart_rate  \\\n",
              "0                    119.0                      54.0        79.0   \n",
              "1                    133.0                      64.0        73.0   \n",
              "2                    140.0                      74.0        70.0   \n",
              "3                    154.0                      78.0        77.0   \n",
              "4                    155.0                      61.0        64.0   \n",
              "\n",
              "   highest_heart_rate  lowest_heart_rate  lowest_urine_output  highest_ph  \\\n",
              "0                80.0               73.0                700.0         NaN   \n",
              "1                73.0               69.0               1351.0         NaN   \n",
              "2                72.0               65.0               1420.0         NaN   \n",
              "3                80.0               72.0                350.0         NaN   \n",
              "4                77.0               64.0                  NaN         NaN   \n",
              "\n",
              "   hematocrit  platelet_count  potassium  lowest_mean_arterial_pressure  \\\n",
              "0       0.354           116.0        4.1                           85.0   \n",
              "1       0.359           117.0        3.7                            NaN   \n",
              "2       0.372           145.0        4.0                            NaN   \n",
              "3       0.383           218.0        3.9                            NaN   \n",
              "4         NaN             NaN        NaN                            NaN   \n",
              "\n",
              "   highest_mean_arterial_pressure  temperature  \n",
              "0                            85.0         37.2  \n",
              "1                             NaN         37.1  \n",
              "2                             NaN         37.5  \n",
              "3                             NaN         37.1  \n",
              "4                             NaN         36.7  "
            ],
            "text/html": [
              "\n",
              "  <div id=\"df-8b11aaf0-2c0d-44c0-96da-9debc3425b53\">\n",
              "    <div class=\"colab-df-container\">\n",
              "      <div>\n",
              "<style scoped>\n",
              "    .dataframe tbody tr th:only-of-type {\n",
              "        vertical-align: middle;\n",
              "    }\n",
              "\n",
              "    .dataframe tbody tr th {\n",
              "        vertical-align: top;\n",
              "    }\n",
              "\n",
              "    .dataframe thead th {\n",
              "        text-align: right;\n",
              "    }\n",
              "</style>\n",
              "<table border=\"1\" class=\"dataframe\">\n",
              "  <thead>\n",
              "    <tr style=\"text-align: right;\">\n",
              "      <th></th>\n",
              "      <th>systolic_blood_pressure</th>\n",
              "      <th>diastolic_blood_pressure</th>\n",
              "      <th>heart_rate</th>\n",
              "      <th>highest_heart_rate</th>\n",
              "      <th>lowest_heart_rate</th>\n",
              "      <th>lowest_urine_output</th>\n",
              "      <th>highest_ph</th>\n",
              "      <th>hematocrit</th>\n",
              "      <th>platelet_count</th>\n",
              "      <th>potassium</th>\n",
              "      <th>lowest_mean_arterial_pressure</th>\n",
              "      <th>highest_mean_arterial_pressure</th>\n",
              "      <th>temperature</th>\n",
              "    </tr>\n",
              "  </thead>\n",
              "  <tbody>\n",
              "    <tr>\n",
              "      <th>0</th>\n",
              "      <td>119.0</td>\n",
              "      <td>54.0</td>\n",
              "      <td>79.0</td>\n",
              "      <td>80.0</td>\n",
              "      <td>73.0</td>\n",
              "      <td>700.0</td>\n",
              "      <td>NaN</td>\n",
              "      <td>0.354</td>\n",
              "      <td>116.0</td>\n",
              "      <td>4.1</td>\n",
              "      <td>85.0</td>\n",
              "      <td>85.0</td>\n",
              "      <td>37.2</td>\n",
              "    </tr>\n",
              "    <tr>\n",
              "      <th>1</th>\n",
              "      <td>133.0</td>\n",
              "      <td>64.0</td>\n",
              "      <td>73.0</td>\n",
              "      <td>73.0</td>\n",
              "      <td>69.0</td>\n",
              "      <td>1351.0</td>\n",
              "      <td>NaN</td>\n",
              "      <td>0.359</td>\n",
              "      <td>117.0</td>\n",
              "      <td>3.7</td>\n",
              "      <td>NaN</td>\n",
              "      <td>NaN</td>\n",
              "      <td>37.1</td>\n",
              "    </tr>\n",
              "    <tr>\n",
              "      <th>2</th>\n",
              "      <td>140.0</td>\n",
              "      <td>74.0</td>\n",
              "      <td>70.0</td>\n",
              "      <td>72.0</td>\n",
              "      <td>65.0</td>\n",
              "      <td>1420.0</td>\n",
              "      <td>NaN</td>\n",
              "      <td>0.372</td>\n",
              "      <td>145.0</td>\n",
              "      <td>4.0</td>\n",
              "      <td>NaN</td>\n",
              "      <td>NaN</td>\n",
              "      <td>37.5</td>\n",
              "    </tr>\n",
              "    <tr>\n",
              "      <th>3</th>\n",
              "      <td>154.0</td>\n",
              "      <td>78.0</td>\n",
              "      <td>77.0</td>\n",
              "      <td>80.0</td>\n",
              "      <td>72.0</td>\n",
              "      <td>350.0</td>\n",
              "      <td>NaN</td>\n",
              "      <td>0.383</td>\n",
              "      <td>218.0</td>\n",
              "      <td>3.9</td>\n",
              "      <td>NaN</td>\n",
              "      <td>NaN</td>\n",
              "      <td>37.1</td>\n",
              "    </tr>\n",
              "    <tr>\n",
              "      <th>4</th>\n",
              "      <td>155.0</td>\n",
              "      <td>61.0</td>\n",
              "      <td>64.0</td>\n",
              "      <td>77.0</td>\n",
              "      <td>64.0</td>\n",
              "      <td>NaN</td>\n",
              "      <td>NaN</td>\n",
              "      <td>NaN</td>\n",
              "      <td>NaN</td>\n",
              "      <td>NaN</td>\n",
              "      <td>NaN</td>\n",
              "      <td>NaN</td>\n",
              "      <td>36.7</td>\n",
              "    </tr>\n",
              "  </tbody>\n",
              "</table>\n",
              "</div>\n",
              "      <button class=\"colab-df-convert\" onclick=\"convertToInteractive('df-8b11aaf0-2c0d-44c0-96da-9debc3425b53')\"\n",
              "              title=\"Convert this dataframe to an interactive table.\"\n",
              "              style=\"display:none;\">\n",
              "        \n",
              "  <svg xmlns=\"http://www.w3.org/2000/svg\" height=\"24px\"viewBox=\"0 0 24 24\"\n",
              "       width=\"24px\">\n",
              "    <path d=\"M0 0h24v24H0V0z\" fill=\"none\"/>\n",
              "    <path d=\"M18.56 5.44l.94 2.06.94-2.06 2.06-.94-2.06-.94-.94-2.06-.94 2.06-2.06.94zm-11 1L8.5 8.5l.94-2.06 2.06-.94-2.06-.94L8.5 2.5l-.94 2.06-2.06.94zm10 10l.94 2.06.94-2.06 2.06-.94-2.06-.94-.94-2.06-.94 2.06-2.06.94z\"/><path d=\"M17.41 7.96l-1.37-1.37c-.4-.4-.92-.59-1.43-.59-.52 0-1.04.2-1.43.59L10.3 9.45l-7.72 7.72c-.78.78-.78 2.05 0 2.83L4 21.41c.39.39.9.59 1.41.59.51 0 1.02-.2 1.41-.59l7.78-7.78 2.81-2.81c.8-.78.8-2.07 0-2.86zM5.41 20L4 18.59l7.72-7.72 1.47 1.35L5.41 20z\"/>\n",
              "  </svg>\n",
              "      </button>\n",
              "      \n",
              "  <style>\n",
              "    .colab-df-container {\n",
              "      display:flex;\n",
              "      flex-wrap:wrap;\n",
              "      gap: 12px;\n",
              "    }\n",
              "\n",
              "    .colab-df-convert {\n",
              "      background-color: #E8F0FE;\n",
              "      border: none;\n",
              "      border-radius: 50%;\n",
              "      cursor: pointer;\n",
              "      display: none;\n",
              "      fill: #1967D2;\n",
              "      height: 32px;\n",
              "      padding: 0 0 0 0;\n",
              "      width: 32px;\n",
              "    }\n",
              "\n",
              "    .colab-df-convert:hover {\n",
              "      background-color: #E2EBFA;\n",
              "      box-shadow: 0px 1px 2px rgba(60, 64, 67, 0.3), 0px 1px 3px 1px rgba(60, 64, 67, 0.15);\n",
              "      fill: #174EA6;\n",
              "    }\n",
              "\n",
              "    [theme=dark] .colab-df-convert {\n",
              "      background-color: #3B4455;\n",
              "      fill: #D2E3FC;\n",
              "    }\n",
              "\n",
              "    [theme=dark] .colab-df-convert:hover {\n",
              "      background-color: #434B5C;\n",
              "      box-shadow: 0px 1px 3px 1px rgba(0, 0, 0, 0.15);\n",
              "      filter: drop-shadow(0px 1px 2px rgba(0, 0, 0, 0.3));\n",
              "      fill: #FFFFFF;\n",
              "    }\n",
              "  </style>\n",
              "\n",
              "      <script>\n",
              "        const buttonEl =\n",
              "          document.querySelector('#df-8b11aaf0-2c0d-44c0-96da-9debc3425b53 button.colab-df-convert');\n",
              "        buttonEl.style.display =\n",
              "          google.colab.kernel.accessAllowed ? 'block' : 'none';\n",
              "\n",
              "        async function convertToInteractive(key) {\n",
              "          const element = document.querySelector('#df-8b11aaf0-2c0d-44c0-96da-9debc3425b53');\n",
              "          const dataTable =\n",
              "            await google.colab.kernel.invokeFunction('convertToInteractive',\n",
              "                                                     [key], {});\n",
              "          if (!dataTable) return;\n",
              "\n",
              "          const docLinkHtml = 'Like what you see? Visit the ' +\n",
              "            '<a target=\"_blank\" href=https://colab.research.google.com/notebooks/data_table.ipynb>data table notebook</a>'\n",
              "            + ' to learn more about interactive tables.';\n",
              "          element.innerHTML = '';\n",
              "          dataTable['output_type'] = 'display_data';\n",
              "          await google.colab.output.renderOutput(dataTable, element);\n",
              "          const docLink = document.createElement('div');\n",
              "          docLink.innerHTML = docLinkHtml;\n",
              "          element.appendChild(docLink);\n",
              "        }\n",
              "      </script>\n",
              "    </div>\n",
              "  </div>\n",
              "  "
            ]
          },
          "metadata": {},
          "execution_count": 3
        }
      ],
      "source": [
        "# Dataset initialization\n",
        "path_to_file = 'https://raw.githubusercontent.com/RazinAleksandr/M-M-MSA-ITMO/main/Datasets/covid_19.csv'\n",
        "source_df = pd.read_csv(path_to_file)\n",
        "\n",
        "# Used features and data preparation\n",
        "source_df = source_df[ [   \n",
        "    'systolic_blood_pressure', \n",
        "    'diastolic_blood_pressure', \n",
        "    'heart_rate',\n",
        "    'highest_heart_rate',\n",
        "    'lowest_heart_rate', \n",
        "    'lowest_urine_output',\n",
        "    'highest_ph',\n",
        "    'hematocrit',\n",
        "    'platelet_count',\n",
        "    'potassium',\n",
        "    'lowest_mean_arterial_pressure',\n",
        "    'highest_mean_arterial_pressure',\n",
        "    'temperature'\n",
        "           ] ]\n",
        "\n",
        "source_df.head(5)"
      ]
    },
    {
      "cell_type": "code",
      "execution_count": null,
      "id": "71596d68",
      "metadata": {
        "id": "71596d68",
        "colab": {
          "base_uri": "https://localhost:8080/"
        },
        "outputId": "bbcb9a96-cd25-42a3-b19c-c2d820e6d7b1"
      },
      "outputs": [
        {
          "output_type": "stream",
          "name": "stdout",
          "text": [
            "systolic_blood_pressure           float64\n",
            "diastolic_blood_pressure          float64\n",
            "heart_rate                        float64\n",
            "highest_heart_rate                float64\n",
            "lowest_heart_rate                 float64\n",
            "lowest_urine_output               float64\n",
            "highest_ph                        float64\n",
            "hematocrit                        float64\n",
            "platelet_count                    float64\n",
            "potassium                         float64\n",
            "lowest_mean_arterial_pressure     float64\n",
            "highest_mean_arterial_pressure    float64\n",
            "temperature                       float64\n",
            "dtype: object\n",
            " \n",
            "systolic_blood_pressure            975\n",
            "diastolic_blood_pressure           975\n",
            "heart_rate                         958\n",
            "highest_heart_rate                 958\n",
            "lowest_heart_rate                  958\n",
            "lowest_urine_output               3186\n",
            "highest_ph                        3748\n",
            "hematocrit                        2321\n",
            "platelet_count                    2326\n",
            "potassium                         2364\n",
            "lowest_mean_arterial_pressure     3297\n",
            "highest_mean_arterial_pressure    3297\n",
            "temperature                        962\n",
            "dtype: int64\n"
          ]
        }
      ],
      "source": [
        "print(source_df.dtypes)\n",
        "print(' ')\n",
        "print(source_df.isna().sum())"
      ]
    },
    {
      "cell_type": "code",
      "execution_count": null,
      "id": "cf17f399",
      "metadata": {
        "id": "cf17f399"
      },
      "outputs": [],
      "source": [
        "# Some data cleaning\n",
        "source_df.dropna(thresh=2000, axis=1, inplace=True)\n",
        "source_df.fillna(source_df.median(), inplace=True)"
      ]
    },
    {
      "cell_type": "code",
      "execution_count": null,
      "id": "9d437c92",
      "metadata": {
        "id": "9d437c92",
        "colab": {
          "base_uri": "https://localhost:8080/"
        },
        "outputId": "d10b793f-05f0-4119-ebed-8703931fa575"
      },
      "outputs": [
        {
          "output_type": "stream",
          "name": "stdout",
          "text": [
            "Shape before: (4064, 6)\n",
            "Shape after: (2171, 6)\n"
          ]
        }
      ],
      "source": [
        "# Clean outliers\n",
        "def out_clean(df):\n",
        "    for column in df.columns.to_list():    \n",
        "        # clean outliers\n",
        "        # IQR\n",
        "        Q1 = np.percentile(df[column], 25, interpolation='midpoint')\n",
        "        Q3 = np.percentile(df[column], 75, interpolation='midpoint')\n",
        "        IQR = Q3 - Q1\n",
        "\n",
        "        # Upper bound\n",
        "        upper = np.where(df[column] >= (Q3+1.5*IQR))\n",
        "        # Lower bound\n",
        "        lower = np.where(df[column] <= (Q1-1.5*IQR))\n",
        "\n",
        "        ''' Removing the Outliers '''\n",
        "        df.drop(upper[0], inplace = True)\n",
        "        df.drop(lower[0], inplace = True)\n",
        "        df.reset_index(drop=True, inplace=True)\n",
        "    return df\n",
        "\n",
        "print(f'Shape before: {source_df.shape}')\n",
        "source_df = out_clean(source_df)\n",
        "print(f'Shape after: {source_df.shape}')"
      ]
    },
    {
      "cell_type": "code",
      "execution_count": null,
      "id": "f449724d",
      "metadata": {
        "id": "f449724d",
        "colab": {
          "base_uri": "https://localhost:8080/"
        },
        "outputId": "e57b9cb0-e044-4fae-8bd7-b2d683753fde"
      },
      "outputs": [
        {
          "output_type": "stream",
          "name": "stdout",
          "text": [
            "systolic_blood_pressure     float64\n",
            "diastolic_blood_pressure    float64\n",
            "heart_rate                  float64\n",
            "highest_heart_rate          float64\n",
            "lowest_heart_rate           float64\n",
            "temperature                 float64\n",
            "dtype: object\n",
            " \n",
            "systolic_blood_pressure     0\n",
            "diastolic_blood_pressure    0\n",
            "heart_rate                  0\n",
            "highest_heart_rate          0\n",
            "lowest_heart_rate           0\n",
            "temperature                 0\n",
            "dtype: int64\n"
          ]
        }
      ],
      "source": [
        "print(source_df.dtypes)\n",
        "print(' ')\n",
        "print(source_df.isna().sum())"
      ]
    },
    {
      "cell_type": "code",
      "source": [
        "from sklearn.model_selection import train_test_split"
      ],
      "metadata": {
        "id": "0yp_MF2IwKK6"
      },
      "id": "0yp_MF2IwKK6",
      "execution_count": null,
      "outputs": []
    },
    {
      "cell_type": "code",
      "execution_count": null,
      "id": "5df241ec",
      "metadata": {
        "id": "5df241ec",
        "colab": {
          "base_uri": "https://localhost:8080/"
        },
        "outputId": "9649d286-6816-40ae-b9ef-07a3b3bc00b1"
      },
      "outputs": [
        {
          "output_type": "stream",
          "name": "stdout",
          "text": [
            "(1736, 6) (435, 6)\n"
          ]
        }
      ],
      "source": [
        "# Train Test split\n",
        "train, test = train_test_split(source_df, test_size=0.2, random_state=10, shuffle=True)\n",
        "print(train.shape, test.shape)"
      ]
    },
    {
      "cell_type": "markdown",
      "id": "abac84b9",
      "metadata": {
        "id": "abac84b9"
      },
      "source": [
        "## Exercise №4"
      ]
    },
    {
      "cell_type": "markdown",
      "id": "14ff5917",
      "metadata": {
        "id": "14ff5917"
      },
      "source": [
        "Build a Bayesian network for chosen set of variables. Choose its structure on the basis of multivariate analysis and train distributions in nodes using chosen algorithm."
      ]
    },
    {
      "cell_type": "code",
      "execution_count": null,
      "id": "c07ba564",
      "metadata": {
        "id": "c07ba564"
      },
      "outputs": [],
      "source": [
        "def create_edges(connections):\n",
        "\n",
        "    edges = []\n",
        "    for outlet, inlet in connections.items():\n",
        "        for inl in inlet:\n",
        "            edges.append([outlet, inl])\n",
        "  \n",
        "    return edges\n",
        "\n",
        "connections = {\n",
        "    'temperature': [],\n",
        "    'diastolic_blood_pressure': ['temperature'],\n",
        "    'systolic_blood_pressure': ['temperature', 'diastolic_blood_pressure'],\n",
        "    'highest_heart_rate': ['systolic_blood_pressure','temperature'],\n",
        "    'lowest_heart_rate': ['highest_heart_rate', 'systolic_blood_pressure', 'diastolic_blood_pressure', 'temperature'],\n",
        "    'heart_rate': ['temperature', 'highest_heart_rate', 'systolic_blood_pressure', 'diastolic_blood_pressure', 'lowest_heart_rate'], \n",
        "\n",
        "}\n",
        "\n",
        "edges = create_edges(connections)\n",
        "vertices = ['temperature', 'diastolic_blood_pressure', 'systolic_blood_pressure', 'highest_heart_rate', 'lowest_heart_rate']\n",
        "bn = {\"V\":vertices, \"E\":edges}\n"
      ]
    },
    {
      "cell_type": "code",
      "source": [
        "figure, ax = plt.subplots(1, 1, figsize=(10, 10))\n",
        "\n",
        "graph = nx.DiGraph()\n",
        "graph.add_edges_from(BayesianModel(edges).edges())\n",
        "\n",
        "positions = nx.layout.circular_layout(graph)\n",
        "nx.draw(graph, positions, with_labels=True, node_color='pink', node_size=5000)\n",
        "\n",
        "plt.show()"
      ],
      "metadata": {
        "id": "k4xCuNJCuPl5",
        "colab": {
          "base_uri": "https://localhost:8080/",
          "height": 575
        },
        "outputId": "49265a2e-f276-4e21-b023-3950c0ea926f"
      },
      "id": "k4xCuNJCuPl5",
      "execution_count": null,
      "outputs": [
        {
          "output_type": "display_data",
          "data": {
            "text/plain": [
              "<Figure size 720x720 with 1 Axes>"
            ],
            "image/png": "[encoded data removed]"
          },
          "metadata": {}
        }
      ]
    },
    {
      "cell_type": "code",
      "source": [
        "df_transformed = source_df.copy()\n",
        "discretizer = KBinsDiscretizer(n_bins=10, encode='ordinal', strategy='kmeans')\n",
        "df_discretized = discretizer.fit_transform(source_df.values[:])\n",
        "df_transformed[:] = df_discretized\n",
        "df_transformed"
      ],
      "metadata": {
        "id": "8BhxMvYCuRHT",
        "colab": {
          "base_uri": "https://localhost:8080/",
          "height": 424
        },
        "outputId": "01f71807-c6a1-4566-d0c5-5e9e09566e73"
      },
      "id": "8BhxMvYCuRHT",
      "execution_count": null,
      "outputs": [
        {
          "output_type": "execute_result",
          "data": {
            "text/plain": [
              "      systolic_blood_pressure  diastolic_blood_pressure  heart_rate  \\\n",
              "0                         8.0                       2.0         1.0   \n",
              "1                         8.0                       5.0         1.0   \n",
              "2                         9.0                       4.0         5.0   \n",
              "3                         5.0                       8.0         3.0   \n",
              "4                         4.0                       4.0         4.0   \n",
              "...                       ...                       ...         ...   \n",
              "2166                      3.0                       3.0         4.0   \n",
              "2167                      2.0                       3.0         2.0   \n",
              "2168                      4.0                       4.0         4.0   \n",
              "2169                      4.0                       4.0         4.0   \n",
              "2170                      4.0                       4.0         4.0   \n",
              "\n",
              "      highest_heart_rate  lowest_heart_rate  temperature  \n",
              "0                    3.0                2.0          4.0  \n",
              "1                    1.0                2.0          6.0  \n",
              "2                    3.0                7.0          1.0  \n",
              "3                    2.0                6.0          4.0  \n",
              "4                    5.0                5.0          4.0  \n",
              "...                  ...                ...          ...  \n",
              "2166                 4.0                6.0          2.0  \n",
              "2167                 2.0                4.0          1.0  \n",
              "2168                 5.0                5.0          4.0  \n",
              "2169                 5.0                5.0          4.0  \n",
              "2170                 5.0                5.0          4.0  \n",
              "\n",
              "[2171 rows x 6 columns]"
            ],
            "text/html": [
              "\n",
              "  <div id=\"df-49af5074-b613-4ee9-aff2-247bb628d725\">\n",
              "    <div class=\"colab-df-container\">\n",
              "      <div>\n",
              "<style scoped>\n",
              "    .dataframe tbody tr th:only-of-type {\n",
              "        vertical-align: middle;\n",
              "    }\n",
              "\n",
              "    .dataframe tbody tr th {\n",
              "        vertical-align: top;\n",
              "    }\n",
              "\n",
              "    .dataframe thead th {\n",
              "        text-align: right;\n",
              "    }\n",
              "</style>\n",
              "<table border=\"1\" class=\"dataframe\">\n",
              "  <thead>\n",
              "    <tr style=\"text-align: right;\">\n",
              "      <th></th>\n",
              "      <th>systolic_blood_pressure</th>\n",
              "      <th>diastolic_blood_pressure</th>\n",
              "      <th>heart_rate</th>\n",
              "      <th>highest_heart_rate</th>\n",
              "      <th>lowest_heart_rate</th>\n",
              "      <th>temperature</th>\n",
              "    </tr>\n",
              "  </thead>\n",
              "  <tbody>\n",
              "    <tr>\n",
              "      <th>0</th>\n",
              "      <td>8.0</td>\n",
              "      <td>2.0</td>\n",
              "      <td>1.0</td>\n",
              "      <td>3.0</td>\n",
              "      <td>2.0</td>\n",
              "      <td>4.0</td>\n",
              "    </tr>\n",
              "    <tr>\n",
              "      <th>1</th>\n",
              "      <td>8.0</td>\n",
              "      <td>5.0</td>\n",
              "      <td>1.0</td>\n",
              "      <td>1.0</td>\n",
              "      <td>2.0</td>\n",
              "      <td>6.0</td>\n",
              "    </tr>\n",
              "    <tr>\n",
              "      <th>2</th>\n",
              "      <td>9.0</td>\n",
              "      <td>4.0</td>\n",
              "      <td>5.0</td>\n",
              "      <td>3.0</td>\n",
              "      <td>7.0</td>\n",
              "      <td>1.0</td>\n",
              "    </tr>\n",
              "    <tr>\n",
              "      <th>3</th>\n",
              "      <td>5.0</td>\n",
              "      <td>8.0</td>\n",
              "      <td>3.0</td>\n",
              "      <td>2.0</td>\n",
              "      <td>6.0</td>\n",
              "      <td>4.0</td>\n",
              "    </tr>\n",
              "    <tr>\n",
              "      <th>4</th>\n",
              "      <td>4.0</td>\n",
              "      <td>4.0</td>\n",
              "      <td>4.0</td>\n",
              "      <td>5.0</td>\n",
              "      <td>5.0</td>\n",
              "      <td>4.0</td>\n",
              "    </tr>\n",
              "    <tr>\n",
              "      <th>...</th>\n",
              "      <td>...</td>\n",
              "      <td>...</td>\n",
              "      <td>...</td>\n",
              "      <td>...</td>\n",
              "      <td>...</td>\n",
              "      <td>...</td>\n",
              "    </tr>\n",
              "    <tr>\n",
              "      <th>2166</th>\n",
              "      <td>3.0</td>\n",
              "      <td>3.0</td>\n",
              "      <td>4.0</td>\n",
              "      <td>4.0</td>\n",
              "      <td>6.0</td>\n",
              "      <td>2.0</td>\n",
              "    </tr>\n",
              "    <tr>\n",
              "      <th>2167</th>\n",
              "      <td>2.0</td>\n",
              "      <td>3.0</td>\n",
              "      <td>2.0</td>\n",
              "      <td>2.0</td>\n",
              "      <td>4.0</td>\n",
              "      <td>1.0</td>\n",
              "    </tr>\n",
              "    <tr>\n",
              "      <th>2168</th>\n",
              "      <td>4.0</td>\n",
              "      <td>4.0</td>\n",
              "      <td>4.0</td>\n",
              "      <td>5.0</td>\n",
              "      <td>5.0</td>\n",
              "      <td>4.0</td>\n",
              "    </tr>\n",
              "    <tr>\n",
              "      <th>2169</th>\n",
              "      <td>4.0</td>\n",
              "      <td>4.0</td>\n",
              "      <td>4.0</td>\n",
              "      <td>5.0</td>\n",
              "      <td>5.0</td>\n",
              "      <td>4.0</td>\n",
              "    </tr>\n",
              "    <tr>\n",
              "      <th>2170</th>\n",
              "      <td>4.0</td>\n",
              "      <td>4.0</td>\n",
              "      <td>4.0</td>\n",
              "      <td>5.0</td>\n",
              "      <td>5.0</td>\n",
              "      <td>4.0</td>\n",
              "    </tr>\n",
              "  </tbody>\n",
              "</table>\n",
              "<p>2171 rows × 6 columns</p>\n",
              "</div>\n",
              "      <button class=\"colab-df-convert\" onclick=\"convertToInteractive('df-49af5074-b613-4ee9-aff2-247bb628d725')\"\n",
              "              title=\"Convert this dataframe to an interactive table.\"\n",
              "              style=\"display:none;\">\n",
              "        \n",
              "  <svg xmlns=\"http://www.w3.org/2000/svg\" height=\"24px\"viewBox=\"0 0 24 24\"\n",
              "       width=\"24px\">\n",
              "    <path d=\"M0 0h24v24H0V0z\" fill=\"none\"/>\n",
              "    <path d=\"M18.56 5.44l.94 2.06.94-2.06 2.06-.94-2.06-.94-.94-2.06-.94 2.06-2.06.94zm-11 1L8.5 8.5l.94-2.06 2.06-.94-2.06-.94L8.5 2.5l-.94 2.06-2.06.94zm10 10l.94 2.06.94-2.06 2.06-.94-2.06-.94-.94-2.06-.94 2.06-2.06.94z\"/><path d=\"M17.41 7.96l-1.37-1.37c-.4-.4-.92-.59-1.43-.59-.52 0-1.04.2-1.43.59L10.3 9.45l-7.72 7.72c-.78.78-.78 2.05 0 2.83L4 21.41c.39.39.9.59 1.41.59.51 0 1.02-.2 1.41-.59l7.78-7.78 2.81-2.81c.8-.78.8-2.07 0-2.86zM5.41 20L4 18.59l7.72-7.72 1.47 1.35L5.41 20z\"/>\n",
              "  </svg>\n",
              "      </button>\n",
              "      \n",
              "  <style>\n",
              "    .colab-df-container {\n",
              "      display:flex;\n",
              "      flex-wrap:wrap;\n",
              "      gap: 12px;\n",
              "    }\n",
              "\n",
              "    .colab-df-convert {\n",
              "      background-color: #E8F0FE;\n",
              "      border: none;\n",
              "      border-radius: 50%;\n",
              "      cursor: pointer;\n",
              "      display: none;\n",
              "      fill: #1967D2;\n",
              "      height: 32px;\n",
              "      padding: 0 0 0 0;\n",
              "      width: 32px;\n",
              "    }\n",
              "\n",
              "    .colab-df-convert:hover {\n",
              "      background-color: #E2EBFA;\n",
              "      box-shadow: 0px 1px 2px rgba(60, 64, 67, 0.3), 0px 1px 3px 1px rgba(60, 64, 67, 0.15);\n",
              "      fill: #174EA6;\n",
              "    }\n",
              "\n",
              "    [theme=dark] .colab-df-convert {\n",
              "      background-color: #3B4455;\n",
              "      fill: #D2E3FC;\n",
              "    }\n",
              "\n",
              "    [theme=dark] .colab-df-convert:hover {\n",
              "      background-color: #434B5C;\n",
              "      box-shadow: 0px 1px 3px 1px rgba(0, 0, 0, 0.15);\n",
              "      filter: drop-shadow(0px 1px 2px rgba(0, 0, 0, 0.3));\n",
              "      fill: #FFFFFF;\n",
              "    }\n",
              "  </style>\n",
              "\n",
              "      <script>\n",
              "        const buttonEl =\n",
              "          document.querySelector('#df-49af5074-b613-4ee9-aff2-247bb628d725 button.colab-df-convert');\n",
              "        buttonEl.style.display =\n",
              "          google.colab.kernel.accessAllowed ? 'block' : 'none';\n",
              "\n",
              "        async function convertToInteractive(key) {\n",
              "          const element = document.querySelector('#df-49af5074-b613-4ee9-aff2-247bb628d725');\n",
              "          const dataTable =\n",
              "            await google.colab.kernel.invokeFunction('convertToInteractive',\n",
              "                                                     [key], {});\n",
              "          if (!dataTable) return;\n",
              "\n",
              "          const docLinkHtml = 'Like what you see? Visit the ' +\n",
              "            '<a target=\"_blank\" href=https://colab.research.google.com/notebooks/data_table.ipynb>data table notebook</a>'\n",
              "            + ' to learn more about interactive tables.';\n",
              "          element.innerHTML = '';\n",
              "          dataTable['output_type'] = 'display_data';\n",
              "          await google.colab.output.renderOutput(dataTable, element);\n",
              "          const docLink = document.createElement('div');\n",
              "          docLink.innerHTML = docLinkHtml;\n",
              "          element.appendChild(docLink);\n",
              "        }\n",
              "      </script>\n",
              "    </div>\n",
              "  </div>\n",
              "  "
            ]
          },
          "metadata": {},
          "execution_count": 62
        }
      ]
    },
    {
      "cell_type": "code",
      "source": [
        "def accuracy_params_restoration(bn, data):\n",
        "    bn.fit(data)\n",
        "    result = pd.DataFrame(columns=['Parameter', 'accuracy'])\n",
        "    bn_infer = VariableElimination(bn)\n",
        "    for j, param in enumerate(data.columns):\n",
        "        accuracy = 0\n",
        "        test_param = data[param].copy()\n",
        "        test_data = data.drop(columns=param)\n",
        "        evidence = test_data.to_dict('records')\n",
        "        predicted_param = []\n",
        "        for element in evidence:\n",
        "            prediction = bn_infer.map_query(variables=[param], evidence=element, show_progress=False)\n",
        "            predicted_param.append(prediction[param])\n",
        "        accuracy = accuracy_score(test_param.values, predicted_param)\n",
        "        result.loc[j,'Parameter'] = param\n",
        "        result.loc[j, 'accuracy'] = accuracy\n",
        "    return result"
      ],
      "metadata": {
        "id": "st3Yv1RtugNz"
      },
      "id": "st3Yv1RtugNz",
      "execution_count": null,
      "outputs": []
    },
    {
      "cell_type": "code",
      "source": [
        "hc_search = HillClimbSearch(data=df_transformed)\n",
        "hc_k2 = hc_search.estimate(scoring_method=K2Score(df_transformed))\n",
        "hc_bic = hc_search.estimate(scoring_method=BicScore(df_transformed))"
      ],
      "metadata": {
        "id": "tHrH-97zuh9n",
        "colab": {
          "base_uri": "https://localhost:8080/",
          "height": 81,
          "referenced_widgets": [
            "4e46f162810543d69f2e42b52096597d",
            "4d6d6e47389540e8a8378996604cccdf",
            "ee8131ceffbc496ab441f9f3aeb0d725",
            "093a6b9c20eb4be79a0b89cd33d0b06a",
            "fa201958cedd4971af855dacf17ed5ca",
            "16247205780942dfaaac6030be2d6695",
            "018df2b8f00044c3993dcb668d7b6a91",
            "94f330a46cc74f4a8a1f720ab4fd03f4",
            "1a9ce746db964ea0863ceeda8f565fe7",
            "a7808fcd6d0e4e9a95af6939b7a57c42",
            "b5082b59f59041c6a91c20bd854a9b36",
            "28729926de284ebe81fcaace49b2153d",
            "e67f8ec554324075bde4eb919e153d26",
            "6dded2b0659e44e88a3a05c658cf2d5f",
            "8422237d00e24050b8a12a7b07480bbd",
            "ee15df4a137145d999bac270d30be9dc",
            "b6d2a967033c4204a9da02b361146738",
            "182501b6b4cd4c3c9cb755c73a1aba72",
            "bd217e6873e14016960d11aca7debf09",
            "6de01403a9f74645984d3f9d105766ea",
            "a4db6c61fea24d52aee1e03531b690a7",
            "5e266df8f3af449187725b9908bc4be3"
          ]
        },
        "outputId": "23e99340-516d-484f-f684-58c698bf717c"
      },
      "id": "tHrH-97zuh9n",
      "execution_count": null,
      "outputs": [
        {
          "output_type": "display_data",
          "data": {
            "text/plain": [
              "  0%|          | 0/1000000 [00:00<?, ?it/s]"
            ],
            "application/vnd.jupyter.widget-view+json": {
              "version_major": 2,
              "version_minor": 0,
              "model_id": "4e46f162810543d69f2e42b52096597d"
            }
          },
          "metadata": {}
        },
        {
          "output_type": "display_data",
          "data": {
            "text/plain": [
              "  0%|          | 0/1000000 [00:00<?, ?it/s]"
            ],
            "application/vnd.jupyter.widget-view+json": {
              "version_major": 2,
              "version_minor": 0,
              "model_id": "28729926de284ebe81fcaace49b2153d"
            }
          },
          "metadata": {}
        }
      ]
    },
    {
      "cell_type": "code",
      "source": [
        "figure, ax = plt.subplots(1, 1, figsize=(10, 10))\n",
        "\n",
        "graph = nx.DiGraph()\n",
        "graph.add_edges_from(hc_k2.edges())\n",
        "positions = nx.layout.circular_layout(graph)\n",
        "nx.draw(graph, positions, with_labels=True, node_color='pink', node_size=5000)\n",
        "\n",
        "plt.show()"
      ],
      "metadata": {
        "id": "5n2rScAXuk5W",
        "colab": {
          "base_uri": "https://localhost:8080/",
          "height": 575
        },
        "outputId": "611f3d2a-addc-45eb-c101-8d54932d5a09"
      },
      "id": "5n2rScAXuk5W",
      "execution_count": null,
      "outputs": [
        {
          "output_type": "display_data",
          "data": {
            "text/plain": [
              "<Figure size 720x720 with 1 Axes>"
            ],
            "image/png": "[encoded data removed]"
          },
          "metadata": {}
        }
      ]
    },
    {
      "cell_type": "code",
      "source": [
        "accuracy_params_restoration(BayesianNetwork(hc_k2.edges()),\n",
        "                            df_transformed[:].sample(frac=0.01))"
      ],
      "metadata": {
        "id": "_fAUV_tauv5p",
        "colab": {
          "base_uri": "https://localhost:8080/",
          "height": 238
        },
        "outputId": "6d1ef819-5eb3-4e1c-a5e1-b1d119a22bec"
      },
      "id": "_fAUV_tauv5p",
      "execution_count": null,
      "outputs": [
        {
          "output_type": "execute_result",
          "data": {
            "text/plain": [
              "                  Parameter accuracy\n",
              "0   systolic_blood_pressure      1.0\n",
              "1  diastolic_blood_pressure      1.0\n",
              "2                heart_rate      1.0\n",
              "3        highest_heart_rate      1.0\n",
              "4         lowest_heart_rate      1.0\n",
              "5               temperature      1.0"
            ],
            "text/html": [
              "\n",
              "  <div id=\"df-546d1b8a-3935-4f59-894b-56446592bee2\">\n",
              "    <div class=\"colab-df-container\">\n",
              "      <div>\n",
              "<style scoped>\n",
              "    .dataframe tbody tr th:only-of-type {\n",
              "        vertical-align: middle;\n",
              "    }\n",
              "\n",
              "    .dataframe tbody tr th {\n",
              "        vertical-align: top;\n",
              "    }\n",
              "\n",
              "    .dataframe thead th {\n",
              "        text-align: right;\n",
              "    }\n",
              "</style>\n",
              "<table border=\"1\" class=\"dataframe\">\n",
              "  <thead>\n",
              "    <tr style=\"text-align: right;\">\n",
              "      <th></th>\n",
              "      <th>Parameter</th>\n",
              "      <th>accuracy</th>\n",
              "    </tr>\n",
              "  </thead>\n",
              "  <tbody>\n",
              "    <tr>\n",
              "      <th>0</th>\n",
              "      <td>systolic_blood_pressure</td>\n",
              "      <td>1.0</td>\n",
              "    </tr>\n",
              "    <tr>\n",
              "      <th>1</th>\n",
              "      <td>diastolic_blood_pressure</td>\n",
              "      <td>1.0</td>\n",
              "    </tr>\n",
              "    <tr>\n",
              "      <th>2</th>\n",
              "      <td>heart_rate</td>\n",
              "      <td>1.0</td>\n",
              "    </tr>\n",
              "    <tr>\n",
              "      <th>3</th>\n",
              "      <td>highest_heart_rate</td>\n",
              "      <td>1.0</td>\n",
              "    </tr>\n",
              "    <tr>\n",
              "      <th>4</th>\n",
              "      <td>lowest_heart_rate</td>\n",
              "      <td>1.0</td>\n",
              "    </tr>\n",
              "    <tr>\n",
              "      <th>5</th>\n",
              "      <td>temperature</td>\n",
              "      <td>1.0</td>\n",
              "    </tr>\n",
              "  </tbody>\n",
              "</table>\n",
              "</div>\n",
              "      <button class=\"colab-df-convert\" onclick=\"convertToInteractive('df-546d1b8a-3935-4f59-894b-56446592bee2')\"\n",
              "              title=\"Convert this dataframe to an interactive table.\"\n",
              "              style=\"display:none;\">\n",
              "        \n",
              "  <svg xmlns=\"http://www.w3.org/2000/svg\" height=\"24px\"viewBox=\"0 0 24 24\"\n",
              "       width=\"24px\">\n",
              "    <path d=\"M0 0h24v24H0V0z\" fill=\"none\"/>\n",
              "    <path d=\"M18.56 5.44l.94 2.06.94-2.06 2.06-.94-2.06-.94-.94-2.06-.94 2.06-2.06.94zm-11 1L8.5 8.5l.94-2.06 2.06-.94-2.06-.94L8.5 2.5l-.94 2.06-2.06.94zm10 10l.94 2.06.94-2.06 2.06-.94-2.06-.94-.94-2.06-.94 2.06-2.06.94z\"/><path d=\"M17.41 7.96l-1.37-1.37c-.4-.4-.92-.59-1.43-.59-.52 0-1.04.2-1.43.59L10.3 9.45l-7.72 7.72c-.78.78-.78 2.05 0 2.83L4 21.41c.39.39.9.59 1.41.59.51 0 1.02-.2 1.41-.59l7.78-7.78 2.81-2.81c.8-.78.8-2.07 0-2.86zM5.41 20L4 18.59l7.72-7.72 1.47 1.35L5.41 20z\"/>\n",
              "  </svg>\n",
              "      </button>\n",
              "      \n",
              "  <style>\n",
              "    .colab-df-container {\n",
              "      display:flex;\n",
              "      flex-wrap:wrap;\n",
              "      gap: 12px;\n",
              "    }\n",
              "\n",
              "    .colab-df-convert {\n",
              "      background-color: #E8F0FE;\n",
              "      border: none;\n",
              "      border-radius: 50%;\n",
              "      cursor: pointer;\n",
              "      display: none;\n",
              "      fill: #1967D2;\n",
              "      height: 32px;\n",
              "      padding: 0 0 0 0;\n",
              "      width: 32px;\n",
              "    }\n",
              "\n",
              "    .colab-df-convert:hover {\n",
              "      background-color: #E2EBFA;\n",
              "      box-shadow: 0px 1px 2px rgba(60, 64, 67, 0.3), 0px 1px 3px 1px rgba(60, 64, 67, 0.15);\n",
              "      fill: #174EA6;\n",
              "    }\n",
              "\n",
              "    [theme=dark] .colab-df-convert {\n",
              "      background-color: #3B4455;\n",
              "      fill: #D2E3FC;\n",
              "    }\n",
              "\n",
              "    [theme=dark] .colab-df-convert:hover {\n",
              "      background-color: #434B5C;\n",
              "      box-shadow: 0px 1px 3px 1px rgba(0, 0, 0, 0.15);\n",
              "      filter: drop-shadow(0px 1px 2px rgba(0, 0, 0, 0.3));\n",
              "      fill: #FFFFFF;\n",
              "    }\n",
              "  </style>\n",
              "\n",
              "      <script>\n",
              "        const buttonEl =\n",
              "          document.querySelector('#df-546d1b8a-3935-4f59-894b-56446592bee2 button.colab-df-convert');\n",
              "        buttonEl.style.display =\n",
              "          google.colab.kernel.accessAllowed ? 'block' : 'none';\n",
              "\n",
              "        async function convertToInteractive(key) {\n",
              "          const element = document.querySelector('#df-546d1b8a-3935-4f59-894b-56446592bee2');\n",
              "          const dataTable =\n",
              "            await google.colab.kernel.invokeFunction('convertToInteractive',\n",
              "                                                     [key], {});\n",
              "          if (!dataTable) return;\n",
              "\n",
              "          const docLinkHtml = 'Like what you see? Visit the ' +\n",
              "            '<a target=\"_blank\" href=https://colab.research.google.com/notebooks/data_table.ipynb>data table notebook</a>'\n",
              "            + ' to learn more about interactive tables.';\n",
              "          element.innerHTML = '';\n",
              "          dataTable['output_type'] = 'display_data';\n",
              "          await google.colab.output.renderOutput(dataTable, element);\n",
              "          const docLink = document.createElement('div');\n",
              "          docLink.innerHTML = docLinkHtml;\n",
              "          element.appendChild(docLink);\n",
              "        }\n",
              "      </script>\n",
              "    </div>\n",
              "  </div>\n",
              "  "
            ]
          },
          "metadata": {},
          "execution_count": 16
        }
      ]
    },
    {
      "cell_type": "code",
      "source": [
        "figure, ax = plt.subplots(1, 1, figsize=(10, 10))\n",
        "\n",
        "graph = nx.DiGraph()\n",
        "graph.add_edges_from(hc_bic.edges())\n",
        "positions = nx.layout.circular_layout(graph)\n",
        "nx.draw(graph, positions, with_labels=True, node_color='pink', node_size=5000)\n",
        "\n",
        "plt.show()"
      ],
      "metadata": {
        "id": "hnrDCwJwuyNi",
        "colab": {
          "base_uri": "https://localhost:8080/",
          "height": 575
        },
        "outputId": "91f9dd59-8bb6-40fb-f4b5-b094b79c5877"
      },
      "id": "hnrDCwJwuyNi",
      "execution_count": null,
      "outputs": [
        {
          "output_type": "display_data",
          "data": {
            "text/plain": [
              "<Figure size 720x720 with 1 Axes>"
            ],
            "image/png": "[encoded data removed]"
          },
          "metadata": {}
        }
      ]
    },
    {
      "cell_type": "code",
      "source": [
        "accuracy_params_restoration(BayesianNetwork(hc_bic.edges()),\n",
        "                            df_transformed[:].sample(frac=0.01))"
      ],
      "metadata": {
        "id": "an5xZ9J3u4N6",
        "colab": {
          "base_uri": "https://localhost:8080/",
          "height": 238
        },
        "outputId": "1546ee5c-48b6-40f9-b80c-92315de679e9"
      },
      "id": "an5xZ9J3u4N6",
      "execution_count": null,
      "outputs": [
        {
          "output_type": "execute_result",
          "data": {
            "text/plain": [
              "                  Parameter  accuracy\n",
              "0   systolic_blood_pressure  0.818182\n",
              "1  diastolic_blood_pressure       1.0\n",
              "2                heart_rate  0.954545\n",
              "3        highest_heart_rate  0.818182\n",
              "4         lowest_heart_rate  0.863636\n",
              "5               temperature  0.909091"
            ],
            "text/html": [
              "\n",
              "  <div id=\"df-07d349d1-dad8-47b9-9bf6-608587f071c9\">\n",
              "    <div class=\"colab-df-container\">\n",
              "      <div>\n",
              "<style scoped>\n",
              "    .dataframe tbody tr th:only-of-type {\n",
              "        vertical-align: middle;\n",
              "    }\n",
              "\n",
              "    .dataframe tbody tr th {\n",
              "        vertical-align: top;\n",
              "    }\n",
              "\n",
              "    .dataframe thead th {\n",
              "        text-align: right;\n",
              "    }\n",
              "</style>\n",
              "<table border=\"1\" class=\"dataframe\">\n",
              "  <thead>\n",
              "    <tr style=\"text-align: right;\">\n",
              "      <th></th>\n",
              "      <th>Parameter</th>\n",
              "      <th>accuracy</th>\n",
              "    </tr>\n",
              "  </thead>\n",
              "  <tbody>\n",
              "    <tr>\n",
              "      <th>0</th>\n",
              "      <td>systolic_blood_pressure</td>\n",
              "      <td>0.818182</td>\n",
              "    </tr>\n",
              "    <tr>\n",
              "      <th>1</th>\n",
              "      <td>diastolic_blood_pressure</td>\n",
              "      <td>1.0</td>\n",
              "    </tr>\n",
              "    <tr>\n",
              "      <th>2</th>\n",
              "      <td>heart_rate</td>\n",
              "      <td>0.954545</td>\n",
              "    </tr>\n",
              "    <tr>\n",
              "      <th>3</th>\n",
              "      <td>highest_heart_rate</td>\n",
              "      <td>0.818182</td>\n",
              "    </tr>\n",
              "    <tr>\n",
              "      <th>4</th>\n",
              "      <td>lowest_heart_rate</td>\n",
              "      <td>0.863636</td>\n",
              "    </tr>\n",
              "    <tr>\n",
              "      <th>5</th>\n",
              "      <td>temperature</td>\n",
              "      <td>0.909091</td>\n",
              "    </tr>\n",
              "  </tbody>\n",
              "</table>\n",
              "</div>\n",
              "      <button class=\"colab-df-convert\" onclick=\"convertToInteractive('df-07d349d1-dad8-47b9-9bf6-608587f071c9')\"\n",
              "              title=\"Convert this dataframe to an interactive table.\"\n",
              "              style=\"display:none;\">\n",
              "        \n",
              "  <svg xmlns=\"http://www.w3.org/2000/svg\" height=\"24px\"viewBox=\"0 0 24 24\"\n",
              "       width=\"24px\">\n",
              "    <path d=\"M0 0h24v24H0V0z\" fill=\"none\"/>\n",
              "    <path d=\"M18.56 5.44l.94 2.06.94-2.06 2.06-.94-2.06-.94-.94-2.06-.94 2.06-2.06.94zm-11 1L8.5 8.5l.94-2.06 2.06-.94-2.06-.94L8.5 2.5l-.94 2.06-2.06.94zm10 10l.94 2.06.94-2.06 2.06-.94-2.06-.94-.94-2.06-.94 2.06-2.06.94z\"/><path d=\"M17.41 7.96l-1.37-1.37c-.4-.4-.92-.59-1.43-.59-.52 0-1.04.2-1.43.59L10.3 9.45l-7.72 7.72c-.78.78-.78 2.05 0 2.83L4 21.41c.39.39.9.59 1.41.59.51 0 1.02-.2 1.41-.59l7.78-7.78 2.81-2.81c.8-.78.8-2.07 0-2.86zM5.41 20L4 18.59l7.72-7.72 1.47 1.35L5.41 20z\"/>\n",
              "  </svg>\n",
              "      </button>\n",
              "      \n",
              "  <style>\n",
              "    .colab-df-container {\n",
              "      display:flex;\n",
              "      flex-wrap:wrap;\n",
              "      gap: 12px;\n",
              "    }\n",
              "\n",
              "    .colab-df-convert {\n",
              "      background-color: #E8F0FE;\n",
              "      border: none;\n",
              "      border-radius: 50%;\n",
              "      cursor: pointer;\n",
              "      display: none;\n",
              "      fill: #1967D2;\n",
              "      height: 32px;\n",
              "      padding: 0 0 0 0;\n",
              "      width: 32px;\n",
              "    }\n",
              "\n",
              "    .colab-df-convert:hover {\n",
              "      background-color: #E2EBFA;\n",
              "      box-shadow: 0px 1px 2px rgba(60, 64, 67, 0.3), 0px 1px 3px 1px rgba(60, 64, 67, 0.15);\n",
              "      fill: #174EA6;\n",
              "    }\n",
              "\n",
              "    [theme=dark] .colab-df-convert {\n",
              "      background-color: #3B4455;\n",
              "      fill: #D2E3FC;\n",
              "    }\n",
              "\n",
              "    [theme=dark] .colab-df-convert:hover {\n",
              "      background-color: #434B5C;\n",
              "      box-shadow: 0px 1px 3px 1px rgba(0, 0, 0, 0.15);\n",
              "      filter: drop-shadow(0px 1px 2px rgba(0, 0, 0, 0.3));\n",
              "      fill: #FFFFFF;\n",
              "    }\n",
              "  </style>\n",
              "\n",
              "      <script>\n",
              "        const buttonEl =\n",
              "          document.querySelector('#df-07d349d1-dad8-47b9-9bf6-608587f071c9 button.colab-df-convert');\n",
              "        buttonEl.style.display =\n",
              "          google.colab.kernel.accessAllowed ? 'block' : 'none';\n",
              "\n",
              "        async function convertToInteractive(key) {\n",
              "          const element = document.querySelector('#df-07d349d1-dad8-47b9-9bf6-608587f071c9');\n",
              "          const dataTable =\n",
              "            await google.colab.kernel.invokeFunction('convertToInteractive',\n",
              "                                                     [key], {});\n",
              "          if (!dataTable) return;\n",
              "\n",
              "          const docLinkHtml = 'Like what you see? Visit the ' +\n",
              "            '<a target=\"_blank\" href=https://colab.research.google.com/notebooks/data_table.ipynb>data table notebook</a>'\n",
              "            + ' to learn more about interactive tables.';\n",
              "          element.innerHTML = '';\n",
              "          dataTable['output_type'] = 'display_data';\n",
              "          await google.colab.output.renderOutput(dataTable, element);\n",
              "          const docLink = document.createElement('div');\n",
              "          docLink.innerHTML = docLinkHtml;\n",
              "          element.appendChild(docLink);\n",
              "        }\n",
              "      </script>\n",
              "    </div>\n",
              "  </div>\n",
              "  "
            ]
          },
          "metadata": {},
          "execution_count": 18
        }
      ]
    },
    {
      "cell_type": "code",
      "source": [
        "e_search = TreeSearch(data=df_transformed)\n",
        "e_model = e_search.estimate()"
      ],
      "metadata": {
        "id": "4sbHbevEu6-_",
        "colab": {
          "base_uri": "https://localhost:8080/",
          "height": 49,
          "referenced_widgets": [
            "2310c581e9e64545a7bb5aaba5b097a0",
            "2bc9793ea96442daa4613459c364af77",
            "a8b1d365737545b08a5684c993510821",
            "943640640b0e426bbf5e0d1f1a474b70",
            "fa890f11a20a46479f91e4b988ef47f4",
            "e9c1f80120d5470dad750f530faa7963",
            "6b64105df63049bf9d186559826fa4ae",
            "291b81aa30d54160897f38b87dba1af4",
            "f1294f5e58eb49b691d25807b3e6915a",
            "33440c6661934486a663f84172759243",
            "ea39cfcac98740c2bd8549e29ffb8c83"
          ]
        },
        "outputId": "f85a9e6e-05cf-4c93-daaa-ff8ee56909f3"
      },
      "id": "4sbHbevEu6-_",
      "execution_count": null,
      "outputs": [
        {
          "output_type": "display_data",
          "data": {
            "text/plain": [
              "Building tree:   0%|          | 0/15.0 [00:00<?, ?it/s]"
            ],
            "application/vnd.jupyter.widget-view+json": {
              "version_major": 2,
              "version_minor": 0,
              "model_id": "2310c581e9e64545a7bb5aaba5b097a0"
            }
          },
          "metadata": {}
        }
      ]
    },
    {
      "cell_type": "code",
      "source": [
        "figure, ax = plt.subplots(1, 1, figsize=(10, 10))\n",
        "\n",
        "graph = nx.DiGraph()\n",
        "graph.add_edges_from(e_model.edges())\n",
        "positions = nx.layout.circular_layout(graph)\n",
        "nx.draw(graph, positions, with_labels=True, node_color='pink', node_size=5000)\n",
        "\n",
        "plt.show()"
      ],
      "metadata": {
        "id": "JfVyrHHUu-or",
        "colab": {
          "base_uri": "https://localhost:8080/",
          "height": 575
        },
        "outputId": "b27cf0c8-97dc-4475-ef7c-fa615a268c07"
      },
      "id": "JfVyrHHUu-or",
      "execution_count": null,
      "outputs": [
        {
          "output_type": "display_data",
          "data": {
            "text/plain": [
              "<Figure size 720x720 with 1 Axes>"
            ],
            "image/png": "[encoded data removed]"
          },
          "metadata": {}
        }
      ]
    },
    {
      "cell_type": "code",
      "source": [
        "def sampling (bn, data, n):\n",
        "    bn_new = BayesianModel(bn.edges())\n",
        "    bn_new.fit(data)\n",
        "    sampler = BayesianModelSampling(bn_new)\n",
        "    sample = sampler.forward_sample(size=n)\n",
        "    return sample"
      ],
      "metadata": {
        "id": "GguvZlaxvAxZ"
      },
      "id": "GguvZlaxvAxZ",
      "execution_count": null,
      "outputs": []
    },
    {
      "cell_type": "code",
      "source": [
        "def draw_comparative_hist (parametr, original_data, data_sampled, axes=None):\n",
        "    final_df = pd.DataFrame()\n",
        "    \n",
        "    df1 = pd.DataFrame()\n",
        "    df1[parametr] = original_data[parametr]\n",
        "    df1['Data'] = 'Original data'\n",
        "    df1['Probability'] = df1[parametr].apply(lambda x: (df1.groupby(parametr)[parametr].count()[x])/original_data.shape[0])\n",
        "    \n",
        "    df2 = pd.DataFrame()\n",
        "    df2[parametr] = data_sampled[parametr]\n",
        "    df2['Data'] = 'Synthetic data'\n",
        "    df2['Probability'] = df2[parametr].apply(lambda x: (df2.groupby(parametr)[parametr].count()[x])/data_sampled.shape[0])\n",
        "    final_df = pd.concat([df1, df2])\n",
        "    \n",
        "    sns.barplot(ax=axes, x=parametr, y=\"Probability\", hue=\"Data\", data=final_df, palette='Reds')"
      ],
      "metadata": {
        "id": "ZpYWZXWTvGke"
      },
      "id": "ZpYWZXWTvGke",
      "execution_count": null,
      "outputs": []
    },
    {
      "cell_type": "code",
      "source": [
        "sample_K2 = sampling(hc_k2, df_transformed, df_transformed.shape[0])\n",
        "sample_Bic = sampling(hc_bic, df_transformed, df_transformed.shape[0])"
      ],
      "metadata": {
        "id": "4ARklFsrvMO1",
        "colab": {
          "base_uri": "https://localhost:8080/",
          "height": 81,
          "referenced_widgets": [
            "d3c6f6bfc4f946b6ba433d5f79015928",
            "a627d430345d4dab8259434ef711aff7",
            "31a92e8ebed2451a8665ae43ee2247c5",
            "7b6278c380fa4956a7e4a62986b3489b",
            "7a6f9e0eccca47b589aad772eeb58616",
            "8f3188f874c24ae181e27c1694571605",
            "e9a03d55dad74990abe10f10cf21cae5",
            "3111118d229647ecb33e81a1d90dff3d",
            "6663dfcbb91e436aa4146742e71fa69a",
            "bdecf3b7d57044fea4112599c3bc256d",
            "f00a97f92671433f9bfe9ac765a18373",
            "b3e73b3294cb478680ff0517436ac2d9",
            "751c4ebda3d3423ea2bbe287a08b792e",
            "ded29b3755754a0d889a35dc3c745bc6",
            "4a4037791132499f9c0787360809504b",
            "4c3a856efec640b592b99c76c7901f79",
            "d9bef778a18041e088ff37493fd9c575",
            "d88baf862e1148f48cc500f75c7884ad",
            "42986cc81fe04ec089d28ee0b68c6876",
            "d8a698eb07a04de1a039d72fb94afc89",
            "7267a39434ba4846bc4533ecbd0a10c5",
            "ed3a8fb0cd9349b4b2b9ec87a784f505"
          ]
        },
        "outputId": "ad8cbbc6-db8c-4367-98fd-acbcce77cb00"
      },
      "id": "4ARklFsrvMO1",
      "execution_count": null,
      "outputs": [
        {
          "output_type": "display_data",
          "data": {
            "text/plain": [
              "  0%|          | 0/6 [00:00<?, ?it/s]"
            ],
            "application/vnd.jupyter.widget-view+json": {
              "version_major": 2,
              "version_minor": 0,
              "model_id": "d3c6f6bfc4f946b6ba433d5f79015928"
            }
          },
          "metadata": {}
        },
        {
          "output_type": "display_data",
          "data": {
            "text/plain": [
              "  0%|          | 0/6 [00:00<?, ?it/s]"
            ],
            "application/vnd.jupyter.widget-view+json": {
              "version_major": 2,
              "version_minor": 0,
              "model_id": "b3e73b3294cb478680ff0517436ac2d9"
            }
          },
          "metadata": {}
        }
      ]
    },
    {
      "cell_type": "code",
      "source": [
        "print(classification_report(df_transformed.lowest_heart_rate, sample_K2.lowest_heart_rate))"
      ],
      "metadata": {
        "id": "Vz7PYHF4vN8u",
        "colab": {
          "base_uri": "https://localhost:8080/"
        },
        "outputId": "96487f3c-0c91-4a44-ec62-99255dbcc327"
      },
      "id": "Vz7PYHF4vN8u",
      "execution_count": null,
      "outputs": [
        {
          "output_type": "stream",
          "name": "stdout",
          "text": [
            "              precision    recall  f1-score   support\n",
            "\n",
            "         0.0       0.04      0.05      0.05        94\n",
            "         1.0       0.02      0.02      0.02       127\n",
            "         2.0       0.06      0.07      0.06       151\n",
            "         3.0       0.08      0.09      0.08       128\n",
            "         4.0       0.12      0.11      0.12        96\n",
            "         5.0       0.51      0.50      0.50      1107\n",
            "         6.0       0.06      0.06      0.06       158\n",
            "         7.0       0.07      0.06      0.06       116\n",
            "         8.0       0.08      0.08      0.08       129\n",
            "         9.0       0.00      0.00      0.00        65\n",
            "\n",
            "    accuracy                           0.28      2171\n",
            "   macro avg       0.10      0.10      0.10      2171\n",
            "weighted avg       0.29      0.28      0.29      2171\n",
            "\n"
          ]
        }
      ]
    },
    {
      "cell_type": "code",
      "source": [
        "print(classification_report(df_transformed.lowest_heart_rate, sample_Bic.lowest_heart_rate))"
      ],
      "metadata": {
        "id": "xg2NpglUvQeS",
        "colab": {
          "base_uri": "https://localhost:8080/"
        },
        "outputId": "bc0b8c65-bcce-4fab-b9fd-a49cf63670f4"
      },
      "id": "xg2NpglUvQeS",
      "execution_count": null,
      "outputs": [
        {
          "output_type": "stream",
          "name": "stdout",
          "text": [
            "              precision    recall  f1-score   support\n",
            "\n",
            "         0.0       0.08      0.09      0.08        94\n",
            "         1.0       0.03      0.03      0.03       127\n",
            "         2.0       0.05      0.05      0.05       151\n",
            "         3.0       0.07      0.06      0.06       128\n",
            "         4.0       0.07      0.07      0.07        96\n",
            "         5.0       0.52      0.55      0.54      1107\n",
            "         6.0       0.05      0.05      0.05       158\n",
            "         7.0       0.04      0.04      0.04       116\n",
            "         8.0       0.10      0.09      0.09       129\n",
            "         9.0       0.00      0.00      0.00        65\n",
            "\n",
            "    accuracy                           0.31      2171\n",
            "   macro avg       0.10      0.10      0.10      2171\n",
            "weighted avg       0.29      0.31      0.30      2171\n",
            "\n"
          ]
        }
      ]
    },
    {
      "cell_type": "code",
      "source": [
        "print(classification_report(df_transformed.temperature, sample_K2.temperature))"
      ],
      "metadata": {
        "id": "M0yQ2XKEvS9B",
        "colab": {
          "base_uri": "https://localhost:8080/"
        },
        "outputId": "52e3b047-9b44-4192-b633-42e98a743749"
      },
      "id": "M0yQ2XKEvS9B",
      "execution_count": null,
      "outputs": [
        {
          "output_type": "stream",
          "name": "stdout",
          "text": [
            "              precision    recall  f1-score   support\n",
            "\n",
            "         0.0       0.10      0.09      0.09       167\n",
            "         1.0       0.08      0.08      0.08       193\n",
            "         2.0       0.10      0.10      0.10       209\n",
            "         4.0       0.53      0.52      0.53      1159\n",
            "         5.0       0.06      0.06      0.06       173\n",
            "         6.0       0.06      0.07      0.06       145\n",
            "         7.0       0.05      0.06      0.06       125\n",
            "\n",
            "    accuracy                           0.31      2171\n",
            "   macro avg       0.14      0.14      0.14      2171\n",
            "weighted avg       0.32      0.31      0.32      2171\n",
            "\n"
          ]
        }
      ]
    },
    {
      "cell_type": "code",
      "source": [
        "print(classification_report(df_transformed.temperature, sample_Bic.temperature))"
      ],
      "metadata": {
        "id": "GLFSOuVRvc9x",
        "colab": {
          "base_uri": "https://localhost:8080/"
        },
        "outputId": "e8aed5b6-b18a-485d-cc51-0453ca0bf75b"
      },
      "id": "GLFSOuVRvc9x",
      "execution_count": null,
      "outputs": [
        {
          "output_type": "stream",
          "name": "stdout",
          "text": [
            "              precision    recall  f1-score   support\n",
            "\n",
            "         0.0       0.09      0.09      0.09       167\n",
            "         1.0       0.11      0.12      0.12       193\n",
            "         2.0       0.10      0.09      0.09       209\n",
            "         4.0       0.53      0.53      0.53      1159\n",
            "         5.0       0.09      0.08      0.08       173\n",
            "         6.0       0.06      0.06      0.06       145\n",
            "         7.0       0.03      0.02      0.03       125\n",
            "\n",
            "    accuracy                           0.32      2171\n",
            "   macro avg       0.14      0.14      0.14      2171\n",
            "weighted avg       0.32      0.32      0.32      2171\n",
            "\n"
          ]
        }
      ]
    },
    {
      "cell_type": "code",
      "source": [
        "print(classification_report(df_transformed.highest_heart_rate, sample_K2.highest_heart_rate))"
      ],
      "metadata": {
        "id": "JYlJEg9Fvf_5",
        "colab": {
          "base_uri": "https://localhost:8080/"
        },
        "outputId": "bbfb4432-2183-41c5-dea7-3eb49e70d230"
      },
      "id": "JYlJEg9Fvf_5",
      "execution_count": null,
      "outputs": [
        {
          "output_type": "stream",
          "name": "stdout",
          "text": [
            "              precision    recall  f1-score   support\n",
            "\n",
            "         0.0       0.00      0.00      0.00        90\n",
            "         1.0       0.00      0.00      0.00        84\n",
            "         2.0       0.10      0.10      0.10       130\n",
            "         3.0       0.12      0.12      0.12       226\n",
            "         4.0       0.07      0.08      0.07       142\n",
            "         5.0       0.53      0.50      0.51      1127\n",
            "         6.0       0.06      0.06      0.06       164\n",
            "         7.0       0.08      0.08      0.08       102\n",
            "         8.0       0.03      0.03      0.03        73\n",
            "         9.0       0.00      0.00      0.00        33\n",
            "\n",
            "    accuracy                           0.29      2171\n",
            "   macro avg       0.10      0.10      0.10      2171\n",
            "weighted avg       0.30      0.29      0.30      2171\n",
            "\n"
          ]
        }
      ]
    },
    {
      "cell_type": "code",
      "source": [
        "print(classification_report(df_transformed.highest_heart_rate, sample_Bic.highest_heart_rate))"
      ],
      "metadata": {
        "id": "RIHoGBk8vh9-",
        "colab": {
          "base_uri": "https://localhost:8080/"
        },
        "outputId": "56592f1a-4f98-4cc2-8ac1-ccb6a9863012"
      },
      "id": "RIHoGBk8vh9-",
      "execution_count": null,
      "outputs": [
        {
          "output_type": "stream",
          "name": "stdout",
          "text": [
            "              precision    recall  f1-score   support\n",
            "\n",
            "         0.0       0.04      0.04      0.04        90\n",
            "         1.0       0.03      0.02      0.02        84\n",
            "         2.0       0.04      0.04      0.04       130\n",
            "         3.0       0.11      0.11      0.11       226\n",
            "         4.0       0.04      0.04      0.04       142\n",
            "         5.0       0.53      0.56      0.55      1127\n",
            "         6.0       0.05      0.04      0.04       164\n",
            "         7.0       0.02      0.02      0.02       102\n",
            "         8.0       0.02      0.01      0.02        73\n",
            "         9.0       0.03      0.03      0.03        33\n",
            "\n",
            "    accuracy                           0.31      2171\n",
            "   macro avg       0.09      0.09      0.09      2171\n",
            "weighted avg       0.30      0.31      0.31      2171\n",
            "\n"
          ]
        }
      ]
    },
    {
      "cell_type": "code",
      "source": [
        "fig, axes = plt.subplots(1, 2, figsize=(15, 6))\n",
        "\n",
        "draw_comparative_hist('lowest_heart_rate', df_transformed, sample_K2, axes=axes[0])\n",
        "draw_comparative_hist('lowest_heart_rate', df_transformed, sample_Bic, axes=axes[1])\n",
        "\n",
        "axes[0].set_title('K2_Score')\n",
        "axes[1].set_title('Bic_Score')\n",
        "plt.legend()\n",
        "plt.show()"
      ],
      "metadata": {
        "id": "wSqK38Tfvj0F",
        "colab": {
          "base_uri": "https://localhost:8080/",
          "height": 405
        },
        "outputId": "368a63c3-b624-4dfc-f5e0-c9cf964ac75e"
      },
      "id": "wSqK38Tfvj0F",
      "execution_count": null,
      "outputs": [
        {
          "output_type": "display_data",
          "data": {
            "text/plain": [
              "<Figure size 1080x432 with 2 Axes>"
            ],
            "image/png": "[encoded data removed]"
          },
          "metadata": {
            "needs_background": "light"
          }
        }
      ]
    },
    {
      "cell_type": "code",
      "source": [
        "\n",
        "fig, axes = plt.subplots(1, 2, figsize=(15, 6))\n",
        "\n",
        "draw_comparative_hist('temperature', df_transformed, sample_K2, axes=axes[0])\n",
        "draw_comparative_hist('temperature', df_transformed, sample_Bic, axes=axes[1])\n",
        "\n",
        "axes[0].set_title('K2_Score')\n",
        "axes[1].set_title('Bic_Score')\n",
        "plt.legend()\n",
        "plt.show()"
      ],
      "metadata": {
        "id": "kBQTVfzevnND",
        "colab": {
          "base_uri": "https://localhost:8080/",
          "height": 404
        },
        "outputId": "cfc80d5b-9dc7-4777-c909-019fc4c6e037"
      },
      "id": "kBQTVfzevnND",
      "execution_count": null,
      "outputs": [
        {
          "output_type": "display_data",
          "data": {
            "text/plain": [
              "<Figure size 1080x432 with 2 Axes>"
            ],
            "image/png": "[encoded data removed]"
          },
          "metadata": {
            "needs_background": "light"
          }
        }
      ]
    },
    {
      "cell_type": "code",
      "source": [
        "fig, axes = plt.subplots(1, 2, figsize=(15, 6))\n",
        "\n",
        "draw_comparative_hist('highest_heart_rate', df_transformed, sample_K2, axes=axes[0])\n",
        "draw_comparative_hist('highest_heart_rate', df_transformed, sample_Bic, axes=axes[1])\n",
        "\n",
        "axes[0].set_title('K2_Score')\n",
        "axes[1].set_title('Bic_Score')\n",
        "plt.legend()\n",
        "plt.show()"
      ],
      "metadata": {
        "id": "izq6GFOYvpUz",
        "colab": {
          "base_uri": "https://localhost:8080/",
          "height": 405
        },
        "outputId": "0edf8893-b05d-4613-85b6-d80aa6298dd8"
      },
      "id": "izq6GFOYvpUz",
      "execution_count": null,
      "outputs": [
        {
          "output_type": "display_data",
          "data": {
            "text/plain": [
              "<Figure size 1080x432 with 2 Axes>"
            ],
            "image/png": "[encoded data removed]"
          },
          "metadata": {
            "needs_background": "light"
          }
        }
      ]
    },
    {
      "cell_type": "code",
      "source": [
        "# scaler = StandardScaler()\n",
        "# sample_K2[sample_K2.columns] = scaler.fit_transform(sample_K2[sample_K2.columns].values)\n",
        "# sample_Bic[sample_Bic.columns] = scaler.fit_transform(sample_Bic[sample_Bic.columns].values)\n",
        "# sample_K2[sample_K2.columns] = scaler.inverse_transform(sample_K2[sample_K2.columns].values)\n",
        "# sample_Bic[sample_Bic.columns] = scaler.inverse_transform(sample_Bic[sample_Bic.columns].values)"
      ],
      "metadata": {
        "id": "aiasDG20vyUb"
      },
      "id": "aiasDG20vyUb",
      "execution_count": null,
      "outputs": []
    },
    {
      "cell_type": "code",
      "source": [
        "sample_K2.columns = ['1', '2', '3', '4', '5', '6']\n",
        "sample_Bic.columns = ['1', '2', '3', '4', '5', '6']"
      ],
      "metadata": {
        "id": "GOW-27iRv1Xr"
      },
      "id": "GOW-27iRv1Xr",
      "execution_count": null,
      "outputs": []
    },
    {
      "cell_type": "code",
      "source": [
        "fig, axes = plt.subplots(1, 2, figsize=(15, 6))\n",
        "\n",
        "sns.histplot(df_transformed['lowest_heart_rate'], label='Original data', ax=axes[0], bins=10)\n",
        "sns.histplot(sample_K2['1'], label='Generated data', color='pink', ax=axes[0], bins=10)\n",
        "\n",
        "sns.histplot(df_transformed['lowest_heart_rate'], label='Original data', ax=axes[1], bins=10)\n",
        "sns.histplot(sample_Bic['1'], label='Generated data', color='pink', ax=axes[1], bins=10)\n",
        "\n",
        "axes[0].set_title('K2_Score')\n",
        "axes[1].set_title('Bic_Score')\n",
        "plt.legend()\n",
        "plt.show()"
      ],
      "metadata": {
        "id": "iIxx6dr0v5rh",
        "colab": {
          "base_uri": "https://localhost:8080/",
          "height": 405
        },
        "outputId": "3099e372-9ba2-4de5-82e6-1936410435ea"
      },
      "id": "iIxx6dr0v5rh",
      "execution_count": null,
      "outputs": [
        {
          "output_type": "display_data",
          "data": {
            "text/plain": [
              "<Figure size 1080x432 with 2 Axes>"
            ],
            "image/png": "[encoded data removed]"
          },
          "metadata": {
            "needs_background": "light"
          }
        }
      ]
    },
    {
      "cell_type": "code",
      "source": [
        "fig, axes = plt.subplots(1, 2, figsize=(15, 6))\n",
        "\n",
        "sns.histplot(df_transformed['temperature'], label='Original data', ax=axes[0], bins=10)\n",
        "sns.histplot(sample_K2['2'], label='Generated data', color='pink', ax=axes[0], bins=10)\n",
        "\n",
        "sns.histplot(df_transformed['temperature'], label='Original data', ax=axes[1], bins=10)\n",
        "sns.histplot(sample_Bic['2'], label='Generated data', color='pink', ax=axes[1], bins=10)\n",
        "\n",
        "axes[0].set_title('K2_Score')\n",
        "axes[1].set_title('Bic_Score')\n",
        "plt.legend()\n",
        "plt.show()"
      ],
      "metadata": {
        "id": "e7_3yCO6v_9y",
        "colab": {
          "base_uri": "https://localhost:8080/",
          "height": 404
        },
        "outputId": "217274ed-6456-4e7a-bee7-63eccc4a48c1"
      },
      "id": "e7_3yCO6v_9y",
      "execution_count": null,
      "outputs": [
        {
          "output_type": "display_data",
          "data": {
            "text/plain": [
              "<Figure size 1080x432 with 2 Axes>"
            ],
            "image/png": "[encoded data removed]"
          },
          "metadata": {
            "needs_background": "light"
          }
        }
      ]
    },
    {
      "cell_type": "code",
      "source": [
        "fig, axes = plt.subplots(1, 2, figsize=(15, 6))\n",
        "\n",
        "sns.histplot(df_transformed['highest_heart_rate'], label='Original data', ax=axes[0], bins=10)\n",
        "sns.histplot(sample_K2['5'], label='Generated data', color='pink', ax=axes[0], bins=10)\n",
        "\n",
        "sns.histplot(df_transformed['highest_heart_rate'], label='Original data', ax=axes[1], bins=10)\n",
        "sns.histplot(sample_Bic['5'], label='Generated data', color='pink', ax=axes[1], bins=10)\n",
        "\n",
        "axes[0].set_title('K2_Score')\n",
        "axes[1].set_title('Bic_Score')\n",
        "plt.legend()\n",
        "plt.show()"
      ],
      "metadata": {
        "id": "gVGX76Ay1hYl",
        "colab": {
          "base_uri": "https://localhost:8080/",
          "height": 405
        },
        "outputId": "ed38f82a-2ea8-4e5d-f77c-b526c03dfc2d"
      },
      "id": "gVGX76Ay1hYl",
      "execution_count": null,
      "outputs": [
        {
          "output_type": "display_data",
          "data": {
            "text/plain": [
              "<Figure size 1080x432 with 2 Axes>"
            ],
            "image/png": "[encoded data removed]"
          },
          "metadata": {
            "needs_background": "light"
          }
        }
      ]
    }
  ],
  "metadata": {
    "kernelspec": {
      "display_name": "Python 3 (ipykernel)",
      "language": "python",
      "name": "python3"
    },
    "language_info": {
      "codemirror_mode": {
        "name": "ipython",
        "version": 3
      },
      "file_extension": ".py",
      "mimetype": "text/x-python",
      "name": "python",
      "nbconvert_exporter": "python",
      "pygments_lexer": "ipython3",
      "version": "3.9.7"
    },
    "colab": {
      "provenance": []
    },
    "widgets": {
      "application/vnd.jupyter.widget-state+json": {
        "4e46f162810543d69f2e42b52096597d": {
          "model_module": "@jupyter-widgets/controls",
          "model_name": "HBoxModel",
          "model_module_version": "1.5.0",
          "state": {
            "_dom_classes": [],
            "_model_module": "@jupyter-widgets/controls",
            "_model_module_version": "1.5.0",
            "_model_name": "HBoxModel",
            "_view_count": null,
            "_view_module": "@jupyter-widgets/controls",
            "_view_module_version": "1.5.0",
            "_view_name": "HBoxView",
            "box_style": "",
            "children": [
              "IPY_MODEL_4d6d6e47389540e8a8378996604cccdf",
              "IPY_MODEL_ee8131ceffbc496ab441f9f3aeb0d725",
              "IPY_MODEL_093a6b9c20eb4be79a0b89cd33d0b06a"
            ],
            "layout": "IPY_MODEL_fa201958cedd4971af855dacf17ed5ca"
          }
        },
        "4d6d6e47389540e8a8378996604cccdf": {
          "model_module": "@jupyter-widgets/controls",
          "model_name": "HTMLModel",
          "model_module_version": "1.5.0",
          "state": {
            "_dom_classes": [],
            "_model_module": "@jupyter-widgets/controls",
            "_model_module_version": "1.5.0",
            "_model_name": "HTMLModel",
            "_view_count": null,
            "_view_module": "@jupyter-widgets/controls",
            "_view_module_version": "1.5.0",
            "_view_name": "HTMLView",
            "description": "",
            "description_tooltip": null,
            "layout": "IPY_MODEL_16247205780942dfaaac6030be2d6695",
            "placeholder": "​",
            "style": "IPY_MODEL_018df2b8f00044c3993dcb668d7b6a91",
            "value": "  0%"
          }
        },
        "ee8131ceffbc496ab441f9f3aeb0d725": {
          "model_module": "@jupyter-widgets/controls",
          "model_name": "FloatProgressModel",
          "model_module_version": "1.5.0",
          "state": {
            "_dom_classes": [],
            "_model_module": "@jupyter-widgets/controls",
            "_model_module_version": "1.5.0",
            "_model_name": "FloatProgressModel",
            "_view_count": null,
            "_view_module": "@jupyter-widgets/controls",
            "_view_module_version": "1.5.0",
            "_view_name": "ProgressView",
            "bar_style": "danger",
            "description": "",
            "description_tooltip": null,
            "layout": "IPY_MODEL_94f330a46cc74f4a8a1f720ab4fd03f4",
            "max": 1000000,
            "min": 0,
            "orientation": "horizontal",
            "style": "IPY_MODEL_1a9ce746db964ea0863ceeda8f565fe7",
            "value": 17
          }
        },
        "093a6b9c20eb4be79a0b89cd33d0b06a": {
          "model_module": "@jupyter-widgets/controls",
          "model_name": "HTMLModel",
          "model_module_version": "1.5.0",
          "state": {
            "_dom_classes": [],
            "_model_module": "@jupyter-widgets/controls",
            "_model_module_version": "1.5.0",
            "_model_name": "HTMLModel",
            "_view_count": null,
            "_view_module": "@jupyter-widgets/controls",
            "_view_module_version": "1.5.0",
            "_view_name": "HTMLView",
            "description": "",
            "description_tooltip": null,
            "layout": "IPY_MODEL_a7808fcd6d0e4e9a95af6939b7a57c42",
            "placeholder": "​",
            "style": "IPY_MODEL_b5082b59f59041c6a91c20bd854a9b36",
            "value": " 17/1000000 [00:01&lt;27:33:17, 10.08it/s]"
          }
        },
        "fa201958cedd4971af855dacf17ed5ca": {
          "model_module": "@jupyter-widgets/base",
          "model_name": "LayoutModel",
          "model_module_version": "1.2.0",
          "state": {
            "_model_module": "@jupyter-widgets/base",
            "_model_module_version": "1.2.0",
            "_model_name": "LayoutModel",
            "_view_count": null,
            "_view_module": "@jupyter-widgets/base",
            "_view_module_version": "1.2.0",
            "_view_name": "LayoutView",
            "align_content": null,
            "align_items": null,
            "align_self": null,
            "border": null,
            "bottom": null,
            "display": null,
            "flex": null,
            "flex_flow": null,
            "grid_area": null,
            "grid_auto_columns": null,
            "grid_auto_flow": null,
            "grid_auto_rows": null,
            "grid_column": null,
            "grid_gap": null,
            "grid_row": null,
            "grid_template_areas": null,
            "grid_template_columns": null,
            "grid_template_rows": null,
            "height": null,
            "justify_content": null,
            "justify_items": null,
            "left": null,
            "margin": null,
            "max_height": null,
            "max_width": null,
            "min_height": null,
            "min_width": null,
            "object_fit": null,
            "object_position": null,
            "order": null,
            "overflow": null,
            "overflow_x": null,
            "overflow_y": null,
            "padding": null,
            "right": null,
            "top": null,
            "visibility": null,
            "width": null
          }
        },
        "16247205780942dfaaac6030be2d6695": {
          "model_module": "@jupyter-widgets/base",
          "model_name": "LayoutModel",
          "model_module_version": "1.2.0",
          "state": {
            "_model_module": "@jupyter-widgets/base",
            "_model_module_version": "1.2.0",
            "_model_name": "LayoutModel",
            "_view_count": null,
            "_view_module": "@jupyter-widgets/base",
            "_view_module_version": "1.2.0",
            "_view_name": "LayoutView",
            "align_content": null,
            "align_items": null,
            "align_self": null,
            "border": null,
            "bottom": null,
            "display": null,
            "flex": null,
            "flex_flow": null,
            "grid_area": null,
            "grid_auto_columns": null,
            "grid_auto_flow": null,
            "grid_auto_rows": null,
            "grid_column": null,
            "grid_gap": null,
            "grid_row": null,
            "grid_template_areas": null,
            "grid_template_columns": null,
            "grid_template_rows": null,
            "height": null,
            "justify_content": null,
            "justify_items": null,
            "left": null,
            "margin": null,
            "max_height": null,
            "max_width": null,
            "min_height": null,
            "min_width": null,
            "object_fit": null,
            "object_position": null,
            "order": null,
            "overflow": null,
            "overflow_x": null,
            "overflow_y": null,
            "padding": null,
            "right": null,
            "top": null,
            "visibility": null,
            "width": null
          }
        },
        "018df2b8f00044c3993dcb668d7b6a91": {
          "model_module": "@jupyter-widgets/controls",
          "model_name": "DescriptionStyleModel",
          "model_module_version": "1.5.0",
          "state": {
            "_model_module": "@jupyter-widgets/controls",
            "_model_module_version": "1.5.0",
            "_model_name": "DescriptionStyleModel",
            "_view_count": null,
            "_view_module": "@jupyter-widgets/base",
            "_view_module_version": "1.2.0",
            "_view_name": "StyleView",
            "description_width": ""
          }
        },
        "94f330a46cc74f4a8a1f720ab4fd03f4": {
          "model_module": "@jupyter-widgets/base",
          "model_name": "LayoutModel",
          "model_module_version": "1.2.0",
          "state": {
            "_model_module": "@jupyter-widgets/base",
            "_model_module_version": "1.2.0",
            "_model_name": "LayoutModel",
            "_view_count": null,
            "_view_module": "@jupyter-widgets/base",
            "_view_module_version": "1.2.0",
            "_view_name": "LayoutView",
            "align_content": null,
            "align_items": null,
            "align_self": null,
            "border": null,
            "bottom": null,
            "display": null,
            "flex": null,
            "flex_flow": null,
            "grid_area": null,
            "grid_auto_columns": null,
            "grid_auto_flow": null,
            "grid_auto_rows": null,
            "grid_column": null,
            "grid_gap": null,
            "grid_row": null,
            "grid_template_areas": null,
            "grid_template_columns": null,
            "grid_template_rows": null,
            "height": null,
            "justify_content": null,
            "justify_items": null,
            "left": null,
            "margin": null,
            "max_height": null,
            "max_width": null,
            "min_height": null,
            "min_width": null,
            "object_fit": null,
            "object_position": null,
            "order": null,
            "overflow": null,
            "overflow_x": null,
            "overflow_y": null,
            "padding": null,
            "right": null,
            "top": null,
            "visibility": null,
            "width": null
          }
        },
        "1a9ce746db964ea0863ceeda8f565fe7": {
          "model_module": "@jupyter-widgets/controls",
          "model_name": "ProgressStyleModel",
          "model_module_version": "1.5.0",
          "state": {
            "_model_module": "@jupyter-widgets/controls",
            "_model_module_version": "1.5.0",
            "_model_name": "ProgressStyleModel",
            "_view_count": null,
            "_view_module": "@jupyter-widgets/base",
            "_view_module_version": "1.2.0",
            "_view_name": "StyleView",
            "bar_color": null,
            "description_width": ""
          }
        },
        "a7808fcd6d0e4e9a95af6939b7a57c42": {
          "model_module": "@jupyter-widgets/base",
          "model_name": "LayoutModel",
          "model_module_version": "1.2.0",
          "state": {
            "_model_module": "@jupyter-widgets/base",
            "_model_module_version": "1.2.0",
            "_model_name": "LayoutModel",
            "_view_count": null,
            "_view_module": "@jupyter-widgets/base",
            "_view_module_version": "1.2.0",
            "_view_name": "LayoutView",
            "align_content": null,
            "align_items": null,
            "align_self": null,
            "border": null,
            "bottom": null,
            "display": null,
            "flex": null,
            "flex_flow": null,
            "grid_area": null,
            "grid_auto_columns": null,
            "grid_auto_flow": null,
            "grid_auto_rows": null,
            "grid_column": null,
            "grid_gap": null,
            "grid_row": null,
            "grid_template_areas": null,
            "grid_template_columns": null,
            "grid_template_rows": null,
            "height": null,
            "justify_content": null,
            "justify_items": null,
            "left": null,
            "margin": null,
            "max_height": null,
            "max_width": null,
            "min_height": null,
            "min_width": null,
            "object_fit": null,
            "object_position": null,
            "order": null,
            "overflow": null,
            "overflow_x": null,
            "overflow_y": null,
            "padding": null,
            "right": null,
            "top": null,
            "visibility": null,
            "width": null
          }
        },
        "b5082b59f59041c6a91c20bd854a9b36": {
          "model_module": "@jupyter-widgets/controls",
          "model_name": "DescriptionStyleModel",
          "model_module_version": "1.5.0",
          "state": {
            "_model_module": "@jupyter-widgets/controls",
            "_model_module_version": "1.5.0",
            "_model_name": "DescriptionStyleModel",
            "_view_count": null,
            "_view_module": "@jupyter-widgets/base",
            "_view_module_version": "1.2.0",
            "_view_name": "StyleView",
            "description_width": ""
          }
        },
        "28729926de284ebe81fcaace49b2153d": {
          "model_module": "@jupyter-widgets/controls",
          "model_name": "HBoxModel",
          "model_module_version": "1.5.0",
          "state": {
            "_dom_classes": [],
            "_model_module": "@jupyter-widgets/controls",
            "_model_module_version": "1.5.0",
            "_model_name": "HBoxModel",
            "_view_count": null,
            "_view_module": "@jupyter-widgets/controls",
            "_view_module_version": "1.5.0",
            "_view_name": "HBoxView",
            "box_style": "",
            "children": [
              "IPY_MODEL_e67f8ec554324075bde4eb919e153d26",
              "IPY_MODEL_6dded2b0659e44e88a3a05c658cf2d5f",
              "IPY_MODEL_8422237d00e24050b8a12a7b07480bbd"
            ],
            "layout": "IPY_MODEL_ee15df4a137145d999bac270d30be9dc"
          }
        },
        "e67f8ec554324075bde4eb919e153d26": {
          "model_module": "@jupyter-widgets/controls",
          "model_name": "HTMLModel",
          "model_module_version": "1.5.0",
          "state": {
            "_dom_classes": [],
            "_model_module": "@jupyter-widgets/controls",
            "_model_module_version": "1.5.0",
            "_model_name": "HTMLModel",
            "_view_count": null,
            "_view_module": "@jupyter-widgets/controls",
            "_view_module_version": "1.5.0",
            "_view_name": "HTMLView",
            "description": "",
            "description_tooltip": null,
            "layout": "IPY_MODEL_b6d2a967033c4204a9da02b361146738",
            "placeholder": "​",
            "style": "IPY_MODEL_182501b6b4cd4c3c9cb755c73a1aba72",
            "value": "  0%"
          }
        },
        "6dded2b0659e44e88a3a05c658cf2d5f": {
          "model_module": "@jupyter-widgets/controls",
          "model_name": "FloatProgressModel",
          "model_module_version": "1.5.0",
          "state": {
            "_dom_classes": [],
            "_model_module": "@jupyter-widgets/controls",
            "_model_module_version": "1.5.0",
            "_model_name": "FloatProgressModel",
            "_view_count": null,
            "_view_module": "@jupyter-widgets/controls",
            "_view_module_version": "1.5.0",
            "_view_name": "ProgressView",
            "bar_style": "danger",
            "description": "",
            "description_tooltip": null,
            "layout": "IPY_MODEL_bd217e6873e14016960d11aca7debf09",
            "max": 1000000,
            "min": 0,
            "orientation": "horizontal",
            "style": "IPY_MODEL_6de01403a9f74645984d3f9d105766ea",
            "value": 5
          }
        },
        "8422237d00e24050b8a12a7b07480bbd": {
          "model_module": "@jupyter-widgets/controls",
          "model_name": "HTMLModel",
          "model_module_version": "1.5.0",
          "state": {
            "_dom_classes": [],
            "_model_module": "@jupyter-widgets/controls",
            "_model_module_version": "1.5.0",
            "_model_name": "HTMLModel",
            "_view_count": null,
            "_view_module": "@jupyter-widgets/controls",
            "_view_module_version": "1.5.0",
            "_view_name": "HTMLView",
            "description": "",
            "description_tooltip": null,
            "layout": "IPY_MODEL_a4db6c61fea24d52aee1e03531b690a7",
            "placeholder": "​",
            "style": "IPY_MODEL_5e266df8f3af449187725b9908bc4be3",
            "value": " 5/1000000 [00:00&lt;16:43:32, 16.61it/s]"
          }
        },
        "ee15df4a137145d999bac270d30be9dc": {
          "model_module": "@jupyter-widgets/base",
          "model_name": "LayoutModel",
          "model_module_version": "1.2.0",
          "state": {
            "_model_module": "@jupyter-widgets/base",
            "_model_module_version": "1.2.0",
            "_model_name": "LayoutModel",
            "_view_count": null,
            "_view_module": "@jupyter-widgets/base",
            "_view_module_version": "1.2.0",
            "_view_name": "LayoutView",
            "align_content": null,
            "align_items": null,
            "align_self": null,
            "border": null,
            "bottom": null,
            "display": null,
            "flex": null,
            "flex_flow": null,
            "grid_area": null,
            "grid_auto_columns": null,
            "grid_auto_flow": null,
            "grid_auto_rows": null,
            "grid_column": null,
            "grid_gap": null,
            "grid_row": null,
            "grid_template_areas": null,
            "grid_template_columns": null,
            "grid_template_rows": null,
            "height": null,
            "justify_content": null,
            "justify_items": null,
            "left": null,
            "margin": null,
            "max_height": null,
            "max_width": null,
            "min_height": null,
            "min_width": null,
            "object_fit": null,
            "object_position": null,
            "order": null,
            "overflow": null,
            "overflow_x": null,
            "overflow_y": null,
            "padding": null,
            "right": null,
            "top": null,
            "visibility": null,
            "width": null
          }
        },
        "b6d2a967033c4204a9da02b361146738": {
          "model_module": "@jupyter-widgets/base",
          "model_name": "LayoutModel",
          "model_module_version": "1.2.0",
          "state": {
            "_model_module": "@jupyter-widgets/base",
            "_model_module_version": "1.2.0",
            "_model_name": "LayoutModel",
            "_view_count": null,
            "_view_module": "@jupyter-widgets/base",
            "_view_module_version": "1.2.0",
            "_view_name": "LayoutView",
            "align_content": null,
            "align_items": null,
            "align_self": null,
            "border": null,
            "bottom": null,
            "display": null,
            "flex": null,
            "flex_flow": null,
            "grid_area": null,
            "grid_auto_columns": null,
            "grid_auto_flow": null,
            "grid_auto_rows": null,
            "grid_column": null,
            "grid_gap": null,
            "grid_row": null,
            "grid_template_areas": null,
            "grid_template_columns": null,
            "grid_template_rows": null,
            "height": null,
            "justify_content": null,
            "justify_items": null,
            "left": null,
            "margin": null,
            "max_height": null,
            "max_width": null,
            "min_height": null,
            "min_width": null,
            "object_fit": null,
            "object_position": null,
            "order": null,
            "overflow": null,
            "overflow_x": null,
            "overflow_y": null,
            "padding": null,
            "right": null,
            "top": null,
            "visibility": null,
            "width": null
          }
        },
        "182501b6b4cd4c3c9cb755c73a1aba72": {
          "model_module": "@jupyter-widgets/controls",
          "model_name": "DescriptionStyleModel",
          "model_module_version": "1.5.0",
          "state": {
            "_model_module": "@jupyter-widgets/controls",
            "_model_module_version": "1.5.0",
            "_model_name": "DescriptionStyleModel",
            "_view_count": null,
            "_view_module": "@jupyter-widgets/base",
            "_view_module_version": "1.2.0",
            "_view_name": "StyleView",
            "description_width": ""
          }
        },
        "bd217e6873e14016960d11aca7debf09": {
          "model_module": "@jupyter-widgets/base",
          "model_name": "LayoutModel",
          "model_module_version": "1.2.0",
          "state": {
            "_model_module": "@jupyter-widgets/base",
            "_model_module_version": "1.2.0",
            "_model_name": "LayoutModel",
            "_view_count": null,
            "_view_module": "@jupyter-widgets/base",
            "_view_module_version": "1.2.0",
            "_view_name": "LayoutView",
            "align_content": null,
            "align_items": null,
            "align_self": null,
            "border": null,
            "bottom": null,
            "display": null,
            "flex": null,
            "flex_flow": null,
            "grid_area": null,
            "grid_auto_columns": null,
            "grid_auto_flow": null,
            "grid_auto_rows": null,
            "grid_column": null,
            "grid_gap": null,
            "grid_row": null,
            "grid_template_areas": null,
            "grid_template_columns": null,
            "grid_template_rows": null,
            "height": null,
            "justify_content": null,
            "justify_items": null,
            "left": null,
            "margin": null,
            "max_height": null,
            "max_width": null,
            "min_height": null,
            "min_width": null,
            "object_fit": null,
            "object_position": null,
            "order": null,
            "overflow": null,
            "overflow_x": null,
            "overflow_y": null,
            "padding": null,
            "right": null,
            "top": null,
            "visibility": null,
            "width": null
          }
        },
        "6de01403a9f74645984d3f9d105766ea": {
          "model_module": "@jupyter-widgets/controls",
          "model_name": "ProgressStyleModel",
          "model_module_version": "1.5.0",
          "state": {
            "_model_module": "@jupyter-widgets/controls",
            "_model_module_version": "1.5.0",
            "_model_name": "ProgressStyleModel",
            "_view_count": null,
            "_view_module": "@jupyter-widgets/base",
            "_view_module_version": "1.2.0",
            "_view_name": "StyleView",
            "bar_color": null,
            "description_width": ""
          }
        },
        "a4db6c61fea24d52aee1e03531b690a7": {
          "model_module": "@jupyter-widgets/base",
          "model_name": "LayoutModel",
          "model_module_version": "1.2.0",
          "state": {
            "_model_module": "@jupyter-widgets/base",
            "_model_module_version": "1.2.0",
            "_model_name": "LayoutModel",
            "_view_count": null,
            "_view_module": "@jupyter-widgets/base",
            "_view_module_version": "1.2.0",
            "_view_name": "LayoutView",
            "align_content": null,
            "align_items": null,
            "align_self": null,
            "border": null,
            "bottom": null,
            "display": null,
            "flex": null,
            "flex_flow": null,
            "grid_area": null,
            "grid_auto_columns": null,
            "grid_auto_flow": null,
            "grid_auto_rows": null,
            "grid_column": null,
            "grid_gap": null,
            "grid_row": null,
            "grid_template_areas": null,
            "grid_template_columns": null,
            "grid_template_rows": null,
            "height": null,
            "justify_content": null,
            "justify_items": null,
            "left": null,
            "margin": null,
            "max_height": null,
            "max_width": null,
            "min_height": null,
            "min_width": null,
            "object_fit": null,
            "object_position": null,
            "order": null,
            "overflow": null,
            "overflow_x": null,
            "overflow_y": null,
            "padding": null,
            "right": null,
            "top": null,
            "visibility": null,
            "width": null
          }
        },
        "5e266df8f3af449187725b9908bc4be3": {
          "model_module": "@jupyter-widgets/controls",
          "model_name": "DescriptionStyleModel",
          "model_module_version": "1.5.0",
          "state": {
            "_model_module": "@jupyter-widgets/controls",
            "_model_module_version": "1.5.0",
            "_model_name": "DescriptionStyleModel",
            "_view_count": null,
            "_view_module": "@jupyter-widgets/base",
            "_view_module_version": "1.2.0",
            "_view_name": "StyleView",
            "description_width": ""
          }
        },
        "2310c581e9e64545a7bb5aaba5b097a0": {
          "model_module": "@jupyter-widgets/controls",
          "model_name": "HBoxModel",
          "model_module_version": "1.5.0",
          "state": {
            "_dom_classes": [],
            "_model_module": "@jupyter-widgets/controls",
            "_model_module_version": "1.5.0",
            "_model_name": "HBoxModel",
            "_view_count": null,
            "_view_module": "@jupyter-widgets/controls",
            "_view_module_version": "1.5.0",
            "_view_name": "HBoxView",
            "box_style": "",
            "children": [
              "IPY_MODEL_2bc9793ea96442daa4613459c364af77",
              "IPY_MODEL_a8b1d365737545b08a5684c993510821",
              "IPY_MODEL_943640640b0e426bbf5e0d1f1a474b70"
            ],
            "layout": "IPY_MODEL_fa890f11a20a46479f91e4b988ef47f4"
          }
        },
        "2bc9793ea96442daa4613459c364af77": {
          "model_module": "@jupyter-widgets/controls",
          "model_name": "HTMLModel",
          "model_module_version": "1.5.0",
          "state": {
            "_dom_classes": [],
            "_model_module": "@jupyter-widgets/controls",
            "_model_module_version": "1.5.0",
            "_model_name": "HTMLModel",
            "_view_count": null,
            "_view_module": "@jupyter-widgets/controls",
            "_view_module_version": "1.5.0",
            "_view_name": "HTMLView",
            "description": "",
            "description_tooltip": null,
            "layout": "IPY_MODEL_e9c1f80120d5470dad750f530faa7963",
            "placeholder": "​",
            "style": "IPY_MODEL_6b64105df63049bf9d186559826fa4ae",
            "value": "Building tree: 100%"
          }
        },
        "a8b1d365737545b08a5684c993510821": {
          "model_module": "@jupyter-widgets/controls",
          "model_name": "FloatProgressModel",
          "model_module_version": "1.5.0",
          "state": {
            "_dom_classes": [],
            "_model_module": "@jupyter-widgets/controls",
            "_model_module_version": "1.5.0",
            "_model_name": "FloatProgressModel",
            "_view_count": null,
            "_view_module": "@jupyter-widgets/controls",
            "_view_module_version": "1.5.0",
            "_view_name": "ProgressView",
            "bar_style": "success",
            "description": "",
            "description_tooltip": null,
            "layout": "IPY_MODEL_291b81aa30d54160897f38b87dba1af4",
            "max": 15,
            "min": 0,
            "orientation": "horizontal",
            "style": "IPY_MODEL_f1294f5e58eb49b691d25807b3e6915a",
            "value": 15
          }
        },
        "943640640b0e426bbf5e0d1f1a474b70": {
          "model_module": "@jupyter-widgets/controls",
          "model_name": "HTMLModel",
          "model_module_version": "1.5.0",
          "state": {
            "_dom_classes": [],
            "_model_module": "@jupyter-widgets/controls",
            "_model_module_version": "1.5.0",
            "_model_name": "HTMLModel",
            "_view_count": null,
            "_view_module": "@jupyter-widgets/controls",
            "_view_module_version": "1.5.0",
            "_view_name": "HTMLView",
            "description": "",
            "description_tooltip": null,
            "layout": "IPY_MODEL_33440c6661934486a663f84172759243",
            "placeholder": "​",
            "style": "IPY_MODEL_ea39cfcac98740c2bd8549e29ffb8c83",
            "value": " 15/15.0 [00:00&lt;00:00, 79.20it/s]"
          }
        },
        "fa890f11a20a46479f91e4b988ef47f4": {
          "model_module": "@jupyter-widgets/base",
          "model_name": "LayoutModel",
          "model_module_version": "1.2.0",
          "state": {
            "_model_module": "@jupyter-widgets/base",
            "_model_module_version": "1.2.0",
            "_model_name": "LayoutModel",
            "_view_count": null,
            "_view_module": "@jupyter-widgets/base",
            "_view_module_version": "1.2.0",
            "_view_name": "LayoutView",
            "align_content": null,
            "align_items": null,
            "align_self": null,
            "border": null,
            "bottom": null,
            "display": null,
            "flex": null,
            "flex_flow": null,
            "grid_area": null,
            "grid_auto_columns": null,
            "grid_auto_flow": null,
            "grid_auto_rows": null,
            "grid_column": null,
            "grid_gap": null,
            "grid_row": null,
            "grid_template_areas": null,
            "grid_template_columns": null,
            "grid_template_rows": null,
            "height": null,
            "justify_content": null,
            "justify_items": null,
            "left": null,
            "margin": null,
            "max_height": null,
            "max_width": null,
            "min_height": null,
            "min_width": null,
            "object_fit": null,
            "object_position": null,
            "order": null,
            "overflow": null,
            "overflow_x": null,
            "overflow_y": null,
            "padding": null,
            "right": null,
            "top": null,
            "visibility": null,
            "width": null
          }
        },
        "e9c1f80120d5470dad750f530faa7963": {
          "model_module": "@jupyter-widgets/base",
          "model_name": "LayoutModel",
          "model_module_version": "1.2.0",
          "state": {
            "_model_module": "@jupyter-widgets/base",
            "_model_module_version": "1.2.0",
            "_model_name": "LayoutModel",
            "_view_count": null,
            "_view_module": "@jupyter-widgets/base",
            "_view_module_version": "1.2.0",
            "_view_name": "LayoutView",
            "align_content": null,
            "align_items": null,
            "align_self": null,
            "border": null,
            "bottom": null,
            "display": null,
            "flex": null,
            "flex_flow": null,
            "grid_area": null,
            "grid_auto_columns": null,
            "grid_auto_flow": null,
            "grid_auto_rows": null,
            "grid_column": null,
            "grid_gap": null,
            "grid_row": null,
            "grid_template_areas": null,
            "grid_template_columns": null,
            "grid_template_rows": null,
            "height": null,
            "justify_content": null,
            "justify_items": null,
            "left": null,
            "margin": null,
            "max_height": null,
            "max_width": null,
            "min_height": null,
            "min_width": null,
            "object_fit": null,
            "object_position": null,
            "order": null,
            "overflow": null,
            "overflow_x": null,
            "overflow_y": null,
            "padding": null,
            "right": null,
            "top": null,
            "visibility": null,
            "width": null
          }
        },
        "6b64105df63049bf9d186559826fa4ae": {
          "model_module": "@jupyter-widgets/controls",
          "model_name": "DescriptionStyleModel",
          "model_module_version": "1.5.0",
          "state": {
            "_model_module": "@jupyter-widgets/controls",
            "_model_module_version": "1.5.0",
            "_model_name": "DescriptionStyleModel",
            "_view_count": null,
            "_view_module": "@jupyter-widgets/base",
            "_view_module_version": "1.2.0",
            "_view_name": "StyleView",
            "description_width": ""
          }
        },
        "291b81aa30d54160897f38b87dba1af4": {
          "model_module": "@jupyter-widgets/base",
          "model_name": "LayoutModel",
          "model_module_version": "1.2.0",
          "state": {
            "_model_module": "@jupyter-widgets/base",
            "_model_module_version": "1.2.0",
            "_model_name": "LayoutModel",
            "_view_count": null,
            "_view_module": "@jupyter-widgets/base",
            "_view_module_version": "1.2.0",
            "_view_name": "LayoutView",
            "align_content": null,
            "align_items": null,
            "align_self": null,
            "border": null,
            "bottom": null,
            "display": null,
            "flex": null,
            "flex_flow": null,
            "grid_area": null,
            "grid_auto_columns": null,
            "grid_auto_flow": null,
            "grid_auto_rows": null,
            "grid_column": null,
            "grid_gap": null,
            "grid_row": null,
            "grid_template_areas": null,
            "grid_template_columns": null,
            "grid_template_rows": null,
            "height": null,
            "justify_content": null,
            "justify_items": null,
            "left": null,
            "margin": null,
            "max_height": null,
            "max_width": null,
            "min_height": null,
            "min_width": null,
            "object_fit": null,
            "object_position": null,
            "order": null,
            "overflow": null,
            "overflow_x": null,
            "overflow_y": null,
            "padding": null,
            "right": null,
            "top": null,
            "visibility": null,
            "width": null
          }
        },
        "f1294f5e58eb49b691d25807b3e6915a": {
          "model_module": "@jupyter-widgets/controls",
          "model_name": "ProgressStyleModel",
          "model_module_version": "1.5.0",
          "state": {
            "_model_module": "@jupyter-widgets/controls",
            "_model_module_version": "1.5.0",
            "_model_name": "ProgressStyleModel",
            "_view_count": null,
            "_view_module": "@jupyter-widgets/base",
            "_view_module_version": "1.2.0",
            "_view_name": "StyleView",
            "bar_color": null,
            "description_width": ""
          }
        },
        "33440c6661934486a663f84172759243": {
          "model_module": "@jupyter-widgets/base",
          "model_name": "LayoutModel",
          "model_module_version": "1.2.0",
          "state": {
            "_model_module": "@jupyter-widgets/base",
            "_model_module_version": "1.2.0",
            "_model_name": "LayoutModel",
            "_view_count": null,
            "_view_module": "@jupyter-widgets/base",
            "_view_module_version": "1.2.0",
            "_view_name": "LayoutView",
            "align_content": null,
            "align_items": null,
            "align_self": null,
            "border": null,
            "bottom": null,
            "display": null,
            "flex": null,
            "flex_flow": null,
            "grid_area": null,
            "grid_auto_columns": null,
            "grid_auto_flow": null,
            "grid_auto_rows": null,
            "grid_column": null,
            "grid_gap": null,
            "grid_row": null,
            "grid_template_areas": null,
            "grid_template_columns": null,
            "grid_template_rows": null,
            "height": null,
            "justify_content": null,
            "justify_items": null,
            "left": null,
            "margin": null,
            "max_height": null,
            "max_width": null,
            "min_height": null,
            "min_width": null,
            "object_fit": null,
            "object_position": null,
            "order": null,
            "overflow": null,
            "overflow_x": null,
            "overflow_y": null,
            "padding": null,
            "right": null,
            "top": null,
            "visibility": null,
            "width": null
          }
        },
        "ea39cfcac98740c2bd8549e29ffb8c83": {
          "model_module": "@jupyter-widgets/controls",
          "model_name": "DescriptionStyleModel",
          "model_module_version": "1.5.0",
          "state": {
            "_model_module": "@jupyter-widgets/controls",
            "_model_module_version": "1.5.0",
            "_model_name": "DescriptionStyleModel",
            "_view_count": null,
            "_view_module": "@jupyter-widgets/base",
            "_view_module_version": "1.2.0",
            "_view_name": "StyleView",
            "description_width": ""
          }
        },
        "d3c6f6bfc4f946b6ba433d5f79015928": {
          "model_module": "@jupyter-widgets/controls",
          "model_name": "HBoxModel",
          "model_module_version": "1.5.0",
          "state": {
            "_dom_classes": [],
            "_model_module": "@jupyter-widgets/controls",
            "_model_module_version": "1.5.0",
            "_model_name": "HBoxModel",
            "_view_count": null,
            "_view_module": "@jupyter-widgets/controls",
            "_view_module_version": "1.5.0",
            "_view_name": "HBoxView",
            "box_style": "",
            "children": [
              "IPY_MODEL_a627d430345d4dab8259434ef711aff7",
              "IPY_MODEL_31a92e8ebed2451a8665ae43ee2247c5",
              "IPY_MODEL_7b6278c380fa4956a7e4a62986b3489b"
            ],
            "layout": "IPY_MODEL_7a6f9e0eccca47b589aad772eeb58616"
          }
        },
        "a627d430345d4dab8259434ef711aff7": {
          "model_module": "@jupyter-widgets/controls",
          "model_name": "HTMLModel",
          "model_module_version": "1.5.0",
          "state": {
            "_dom_classes": [],
            "_model_module": "@jupyter-widgets/controls",
            "_model_module_version": "1.5.0",
            "_model_name": "HTMLModel",
            "_view_count": null,
            "_view_module": "@jupyter-widgets/controls",
            "_view_module_version": "1.5.0",
            "_view_name": "HTMLView",
            "description": "",
            "description_tooltip": null,
            "layout": "IPY_MODEL_8f3188f874c24ae181e27c1694571605",
            "placeholder": "​",
            "style": "IPY_MODEL_e9a03d55dad74990abe10f10cf21cae5",
            "value": "Generating for node: temperature: 100%"
          }
        },
        "31a92e8ebed2451a8665ae43ee2247c5": {
          "model_module": "@jupyter-widgets/controls",
          "model_name": "FloatProgressModel",
          "model_module_version": "1.5.0",
          "state": {
            "_dom_classes": [],
            "_model_module": "@jupyter-widgets/controls",
            "_model_module_version": "1.5.0",
            "_model_name": "FloatProgressModel",
            "_view_count": null,
            "_view_module": "@jupyter-widgets/controls",
            "_view_module_version": "1.5.0",
            "_view_name": "ProgressView",
            "bar_style": "success",
            "description": "",
            "description_tooltip": null,
            "layout": "IPY_MODEL_3111118d229647ecb33e81a1d90dff3d",
            "max": 6,
            "min": 0,
            "orientation": "horizontal",
            "style": "IPY_MODEL_6663dfcbb91e436aa4146742e71fa69a",
            "value": 6
          }
        },
        "7b6278c380fa4956a7e4a62986b3489b": {
          "model_module": "@jupyter-widgets/controls",
          "model_name": "HTMLModel",
          "model_module_version": "1.5.0",
          "state": {
            "_dom_classes": [],
            "_model_module": "@jupyter-widgets/controls",
            "_model_module_version": "1.5.0",
            "_model_name": "HTMLModel",
            "_view_count": null,
            "_view_module": "@jupyter-widgets/controls",
            "_view_module_version": "1.5.0",
            "_view_name": "HTMLView",
            "description": "",
            "description_tooltip": null,
            "layout": "IPY_MODEL_bdecf3b7d57044fea4112599c3bc256d",
            "placeholder": "​",
            "style": "IPY_MODEL_f00a97f92671433f9bfe9ac765a18373",
            "value": " 6/6 [09:15&lt;00:00, 157.98s/it]"
          }
        },
        "7a6f9e0eccca47b589aad772eeb58616": {
          "model_module": "@jupyter-widgets/base",
          "model_name": "LayoutModel",
          "model_module_version": "1.2.0",
          "state": {
            "_model_module": "@jupyter-widgets/base",
            "_model_module_version": "1.2.0",
            "_model_name": "LayoutModel",
            "_view_count": null,
            "_view_module": "@jupyter-widgets/base",
            "_view_module_version": "1.2.0",
            "_view_name": "LayoutView",
            "align_content": null,
            "align_items": null,
            "align_self": null,
            "border": null,
            "bottom": null,
            "display": null,
            "flex": null,
            "flex_flow": null,
            "grid_area": null,
            "grid_auto_columns": null,
            "grid_auto_flow": null,
            "grid_auto_rows": null,
            "grid_column": null,
            "grid_gap": null,
            "grid_row": null,
            "grid_template_areas": null,
            "grid_template_columns": null,
            "grid_template_rows": null,
            "height": null,
            "justify_content": null,
            "justify_items": null,
            "left": null,
            "margin": null,
            "max_height": null,
            "max_width": null,
            "min_height": null,
            "min_width": null,
            "object_fit": null,
            "object_position": null,
            "order": null,
            "overflow": null,
            "overflow_x": null,
            "overflow_y": null,
            "padding": null,
            "right": null,
            "top": null,
            "visibility": null,
            "width": null
          }
        },
        "8f3188f874c24ae181e27c1694571605": {
          "model_module": "@jupyter-widgets/base",
          "model_name": "LayoutModel",
          "model_module_version": "1.2.0",
          "state": {
            "_model_module": "@jupyter-widgets/base",
            "_model_module_version": "1.2.0",
            "_model_name": "LayoutModel",
            "_view_count": null,
            "_view_module": "@jupyter-widgets/base",
            "_view_module_version": "1.2.0",
            "_view_name": "LayoutView",
            "align_content": null,
            "align_items": null,
            "align_self": null,
            "border": null,
            "bottom": null,
            "display": null,
            "flex": null,
            "flex_flow": null,
            "grid_area": null,
            "grid_auto_columns": null,
            "grid_auto_flow": null,
            "grid_auto_rows": null,
            "grid_column": null,
            "grid_gap": null,
            "grid_row": null,
            "grid_template_areas": null,
            "grid_template_columns": null,
            "grid_template_rows": null,
            "height": null,
            "justify_content": null,
            "justify_items": null,
            "left": null,
            "margin": null,
            "max_height": null,
            "max_width": null,
            "min_height": null,
            "min_width": null,
            "object_fit": null,
            "object_position": null,
            "order": null,
            "overflow": null,
            "overflow_x": null,
            "overflow_y": null,
            "padding": null,
            "right": null,
            "top": null,
            "visibility": null,
            "width": null
          }
        },
        "e9a03d55dad74990abe10f10cf21cae5": {
          "model_module": "@jupyter-widgets/controls",
          "model_name": "DescriptionStyleModel",
          "model_module_version": "1.5.0",
          "state": {
            "_model_module": "@jupyter-widgets/controls",
            "_model_module_version": "1.5.0",
            "_model_name": "DescriptionStyleModel",
            "_view_count": null,
            "_view_module": "@jupyter-widgets/base",
            "_view_module_version": "1.2.0",
            "_view_name": "StyleView",
            "description_width": ""
          }
        },
        "3111118d229647ecb33e81a1d90dff3d": {
          "model_module": "@jupyter-widgets/base",
          "model_name": "LayoutModel",
          "model_module_version": "1.2.0",
          "state": {
            "_model_module": "@jupyter-widgets/base",
            "_model_module_version": "1.2.0",
            "_model_name": "LayoutModel",
            "_view_count": null,
            "_view_module": "@jupyter-widgets/base",
            "_view_module_version": "1.2.0",
            "_view_name": "LayoutView",
            "align_content": null,
            "align_items": null,
            "align_self": null,
            "border": null,
            "bottom": null,
            "display": null,
            "flex": null,
            "flex_flow": null,
            "grid_area": null,
            "grid_auto_columns": null,
            "grid_auto_flow": null,
            "grid_auto_rows": null,
            "grid_column": null,
            "grid_gap": null,
            "grid_row": null,
            "grid_template_areas": null,
            "grid_template_columns": null,
            "grid_template_rows": null,
            "height": null,
            "justify_content": null,
            "justify_items": null,
            "left": null,
            "margin": null,
            "max_height": null,
            "max_width": null,
            "min_height": null,
            "min_width": null,
            "object_fit": null,
            "object_position": null,
            "order": null,
            "overflow": null,
            "overflow_x": null,
            "overflow_y": null,
            "padding": null,
            "right": null,
            "top": null,
            "visibility": null,
            "width": null
          }
        },
        "6663dfcbb91e436aa4146742e71fa69a": {
          "model_module": "@jupyter-widgets/controls",
          "model_name": "ProgressStyleModel",
          "model_module_version": "1.5.0",
          "state": {
            "_model_module": "@jupyter-widgets/controls",
            "_model_module_version": "1.5.0",
            "_model_name": "ProgressStyleModel",
            "_view_count": null,
            "_view_module": "@jupyter-widgets/base",
            "_view_module_version": "1.2.0",
            "_view_name": "StyleView",
            "bar_color": null,
            "description_width": ""
          }
        },
        "bdecf3b7d57044fea4112599c3bc256d": {
          "model_module": "@jupyter-widgets/base",
          "model_name": "LayoutModel",
          "model_module_version": "1.2.0",
          "state": {
            "_model_module": "@jupyter-widgets/base",
            "_model_module_version": "1.2.0",
            "_model_name": "LayoutModel",
            "_view_count": null,
            "_view_module": "@jupyter-widgets/base",
            "_view_module_version": "1.2.0",
            "_view_name": "LayoutView",
            "align_content": null,
            "align_items": null,
            "align_self": null,
            "border": null,
            "bottom": null,
            "display": null,
            "flex": null,
            "flex_flow": null,
            "grid_area": null,
            "grid_auto_columns": null,
            "grid_auto_flow": null,
            "grid_auto_rows": null,
            "grid_column": null,
            "grid_gap": null,
            "grid_row": null,
            "grid_template_areas": null,
            "grid_template_columns": null,
            "grid_template_rows": null,
            "height": null,
            "justify_content": null,
            "justify_items": null,
            "left": null,
            "margin": null,
            "max_height": null,
            "max_width": null,
            "min_height": null,
            "min_width": null,
            "object_fit": null,
            "object_position": null,
            "order": null,
            "overflow": null,
            "overflow_x": null,
            "overflow_y": null,
            "padding": null,
            "right": null,
            "top": null,
            "visibility": null,
            "width": null
          }
        },
        "f00a97f92671433f9bfe9ac765a18373": {
          "model_module": "@jupyter-widgets/controls",
          "model_name": "DescriptionStyleModel",
          "model_module_version": "1.5.0",
          "state": {
            "_model_module": "@jupyter-widgets/controls",
            "_model_module_version": "1.5.0",
            "_model_name": "DescriptionStyleModel",
            "_view_count": null,
            "_view_module": "@jupyter-widgets/base",
            "_view_module_version": "1.2.0",
            "_view_name": "StyleView",
            "description_width": ""
          }
        },
        "b3e73b3294cb478680ff0517436ac2d9": {
          "model_module": "@jupyter-widgets/controls",
          "model_name": "HBoxModel",
          "model_module_version": "1.5.0",
          "state": {
            "_dom_classes": [],
            "_model_module": "@jupyter-widgets/controls",
            "_model_module_version": "1.5.0",
            "_model_name": "HBoxModel",
            "_view_count": null,
            "_view_module": "@jupyter-widgets/controls",
            "_view_module_version": "1.5.0",
            "_view_name": "HBoxView",
            "box_style": "",
            "children": [
              "IPY_MODEL_751c4ebda3d3423ea2bbe287a08b792e",
              "IPY_MODEL_ded29b3755754a0d889a35dc3c745bc6",
              "IPY_MODEL_4a4037791132499f9c0787360809504b"
            ],
            "layout": "IPY_MODEL_4c3a856efec640b592b99c76c7901f79"
          }
        },
        "751c4ebda3d3423ea2bbe287a08b792e": {
          "model_module": "@jupyter-widgets/controls",
          "model_name": "HTMLModel",
          "model_module_version": "1.5.0",
          "state": {
            "_dom_classes": [],
            "_model_module": "@jupyter-widgets/controls",
            "_model_module_version": "1.5.0",
            "_model_name": "HTMLModel",
            "_view_count": null,
            "_view_module": "@jupyter-widgets/controls",
            "_view_module_version": "1.5.0",
            "_view_name": "HTMLView",
            "description": "",
            "description_tooltip": null,
            "layout": "IPY_MODEL_d9bef778a18041e088ff37493fd9c575",
            "placeholder": "​",
            "style": "IPY_MODEL_d88baf862e1148f48cc500f75c7884ad",
            "value": "Generating for node: highest_heart_rate: 100%"
          }
        },
        "ded29b3755754a0d889a35dc3c745bc6": {
          "model_module": "@jupyter-widgets/controls",
          "model_name": "FloatProgressModel",
          "model_module_version": "1.5.0",
          "state": {
            "_dom_classes": [],
            "_model_module": "@jupyter-widgets/controls",
            "_model_module_version": "1.5.0",
            "_model_name": "FloatProgressModel",
            "_view_count": null,
            "_view_module": "@jupyter-widgets/controls",
            "_view_module_version": "1.5.0",
            "_view_name": "ProgressView",
            "bar_style": "success",
            "description": "",
            "description_tooltip": null,
            "layout": "IPY_MODEL_42986cc81fe04ec089d28ee0b68c6876",
            "max": 6,
            "min": 0,
            "orientation": "horizontal",
            "style": "IPY_MODEL_d8a698eb07a04de1a039d72fb94afc89",
            "value": 6
          }
        },
        "4a4037791132499f9c0787360809504b": {
          "model_module": "@jupyter-widgets/controls",
          "model_name": "HTMLModel",
          "model_module_version": "1.5.0",
          "state": {
            "_dom_classes": [],
            "_model_module": "@jupyter-widgets/controls",
            "_model_module_version": "1.5.0",
            "_model_name": "HTMLModel",
            "_view_count": null,
            "_view_module": "@jupyter-widgets/controls",
            "_view_module_version": "1.5.0",
            "_view_name": "HTMLView",
            "description": "",
            "description_tooltip": null,
            "layout": "IPY_MODEL_7267a39434ba4846bc4533ecbd0a10c5",
            "placeholder": "​",
            "style": "IPY_MODEL_ed3a8fb0cd9349b4b2b9ec87a784f505",
            "value": " 6/6 [00:00&lt;00:00, 71.75it/s]"
          }
        },
        "4c3a856efec640b592b99c76c7901f79": {
          "model_module": "@jupyter-widgets/base",
          "model_name": "LayoutModel",
          "model_module_version": "1.2.0",
          "state": {
            "_model_module": "@jupyter-widgets/base",
            "_model_module_version": "1.2.0",
            "_model_name": "LayoutModel",
            "_view_count": null,
            "_view_module": "@jupyter-widgets/base",
            "_view_module_version": "1.2.0",
            "_view_name": "LayoutView",
            "align_content": null,
            "align_items": null,
            "align_self": null,
            "border": null,
            "bottom": null,
            "display": null,
            "flex": null,
            "flex_flow": null,
            "grid_area": null,
            "grid_auto_columns": null,
            "grid_auto_flow": null,
            "grid_auto_rows": null,
            "grid_column": null,
            "grid_gap": null,
            "grid_row": null,
            "grid_template_areas": null,
            "grid_template_columns": null,
            "grid_template_rows": null,
            "height": null,
            "justify_content": null,
            "justify_items": null,
            "left": null,
            "margin": null,
            "max_height": null,
            "max_width": null,
            "min_height": null,
            "min_width": null,
            "object_fit": null,
            "object_position": null,
            "order": null,
            "overflow": null,
            "overflow_x": null,
            "overflow_y": null,
            "padding": null,
            "right": null,
            "top": null,
            "visibility": null,
            "width": null
          }
        },
        "d9bef778a18041e088ff37493fd9c575": {
          "model_module": "@jupyter-widgets/base",
          "model_name": "LayoutModel",
          "model_module_version": "1.2.0",
          "state": {
            "_model_module": "@jupyter-widgets/base",
            "_model_module_version": "1.2.0",
            "_model_name": "LayoutModel",
            "_view_count": null,
            "_view_module": "@jupyter-widgets/base",
            "_view_module_version": "1.2.0",
            "_view_name": "LayoutView",
            "align_content": null,
            "align_items": null,
            "align_self": null,
            "border": null,
            "bottom": null,
            "display": null,
            "flex": null,
            "flex_flow": null,
            "grid_area": null,
            "grid_auto_columns": null,
            "grid_auto_flow": null,
            "grid_auto_rows": null,
            "grid_column": null,
            "grid_gap": null,
            "grid_row": null,
            "grid_template_areas": null,
            "grid_template_columns": null,
            "grid_template_rows": null,
            "height": null,
            "justify_content": null,
            "justify_items": null,
            "left": null,
            "margin": null,
            "max_height": null,
            "max_width": null,
            "min_height": null,
            "min_width": null,
            "object_fit": null,
            "object_position": null,
            "order": null,
            "overflow": null,
            "overflow_x": null,
            "overflow_y": null,
            "padding": null,
            "right": null,
            "top": null,
            "visibility": null,
            "width": null
          }
        },
        "d88baf862e1148f48cc500f75c7884ad": {
          "model_module": "@jupyter-widgets/controls",
          "model_name": "DescriptionStyleModel",
          "model_module_version": "1.5.0",
          "state": {
            "_model_module": "@jupyter-widgets/controls",
            "_model_module_version": "1.5.0",
            "_model_name": "DescriptionStyleModel",
            "_view_count": null,
            "_view_module": "@jupyter-widgets/base",
            "_view_module_version": "1.2.0",
            "_view_name": "StyleView",
            "description_width": ""
          }
        },
        "42986cc81fe04ec089d28ee0b68c6876": {
          "model_module": "@jupyter-widgets/base",
          "model_name": "LayoutModel",
          "model_module_version": "1.2.0",
          "state": {
            "_model_module": "@jupyter-widgets/base",
            "_model_module_version": "1.2.0",
            "_model_name": "LayoutModel",
            "_view_count": null,
            "_view_module": "@jupyter-widgets/base",
            "_view_module_version": "1.2.0",
            "_view_name": "LayoutView",
            "align_content": null,
            "align_items": null,
            "align_self": null,
            "border": null,
            "bottom": null,
            "display": null,
            "flex": null,
            "flex_flow": null,
            "grid_area": null,
            "grid_auto_columns": null,
            "grid_auto_flow": null,
            "grid_auto_rows": null,
            "grid_column": null,
            "grid_gap": null,
            "grid_row": null,
            "grid_template_areas": null,
            "grid_template_columns": null,
            "grid_template_rows": null,
            "height": null,
            "justify_content": null,
            "justify_items": null,
            "left": null,
            "margin": null,
            "max_height": null,
            "max_width": null,
            "min_height": null,
            "min_width": null,
            "object_fit": null,
            "object_position": null,
            "order": null,
            "overflow": null,
            "overflow_x": null,
            "overflow_y": null,
            "padding": null,
            "right": null,
            "top": null,
            "visibility": null,
            "width": null
          }
        },
        "d8a698eb07a04de1a039d72fb94afc89": {
          "model_module": "@jupyter-widgets/controls",
          "model_name": "ProgressStyleModel",
          "model_module_version": "1.5.0",
          "state": {
            "_model_module": "@jupyter-widgets/controls",
            "_model_module_version": "1.5.0",
            "_model_name": "ProgressStyleModel",
            "_view_count": null,
            "_view_module": "@jupyter-widgets/base",
            "_view_module_version": "1.2.0",
            "_view_name": "StyleView",
            "bar_color": null,
            "description_width": ""
          }
        },
        "7267a39434ba4846bc4533ecbd0a10c5": {
          "model_module": "@jupyter-widgets/base",
          "model_name": "LayoutModel",
          "model_module_version": "1.2.0",
          "state": {
            "_model_module": "@jupyter-widgets/base",
            "_model_module_version": "1.2.0",
            "_model_name": "LayoutModel",
            "_view_count": null,
            "_view_module": "@jupyter-widgets/base",
            "_view_module_version": "1.2.0",
            "_view_name": "LayoutView",
            "align_content": null,
            "align_items": null,
            "align_self": null,
            "border": null,
            "bottom": null,
            "display": null,
            "flex": null,
            "flex_flow": null,
            "grid_area": null,
            "grid_auto_columns": null,
            "grid_auto_flow": null,
            "grid_auto_rows": null,
            "grid_column": null,
            "grid_gap": null,
            "grid_row": null,
            "grid_template_areas": null,
            "grid_template_columns": null,
            "grid_template_rows": null,
            "height": null,
            "justify_content": null,
            "justify_items": null,
            "left": null,
            "margin": null,
            "max_height": null,
            "max_width": null,
            "min_height": null,
            "min_width": null,
            "object_fit": null,
            "object_position": null,
            "order": null,
            "overflow": null,
            "overflow_x": null,
            "overflow_y": null,
            "padding": null,
            "right": null,
            "top": null,
            "visibility": null,
            "width": null
          }
        },
        "ed3a8fb0cd9349b4b2b9ec87a784f505": {
          "model_module": "@jupyter-widgets/controls",
          "model_name": "DescriptionStyleModel",
          "model_module_version": "1.5.0",
          "state": {
            "_model_module": "@jupyter-widgets/controls",
            "_model_module_version": "1.5.0",
            "_model_name": "DescriptionStyleModel",
            "_view_count": null,
            "_view_module": "@jupyter-widgets/base",
            "_view_module_version": "1.2.0",
            "_view_name": "StyleView",
            "description_width": ""
          }
        }
      }
    }
  },
  "nbformat": 4,
  "nbformat_minor": 5
}